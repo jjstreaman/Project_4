{
 "cells": [
  {
   "cell_type": "code",
   "execution_count": 1,
   "id": "2c1f51ff",
   "metadata": {},
   "outputs": [],
   "source": [
    "import pandas as pd\n",
    "import numpy as np\n",
    "import matplotlib.pyplot as plt\n",
    "%matplotlib inline\n",
    "import contextily as ctx\n",
    "from wordcloud import WordCloud\n",
    "from sklearn.model_selection import train_test_split\n",
    "import statsmodels.api as sm\n",
    "from sklearn.linear_model import LogisticRegression\n",
    "from sklearn.preprocessing import LabelEncoder, StandardScaler, MaxAbsScaler\n",
    "from sklearn.ensemble import GradientBoostingClassifier, RandomForestClassifier\n",
    "from sklearn.metrics import accuracy_score, f1_score, precision_score, confusion_matrix, ConfusionMatrixDisplay, classification_report\n",
    "from sklearn.feature_extraction.text import CountVectorizer, TfidfVectorizer\n",
    "from sklearn.pipeline import Pipeline\n",
    "from sklearn.model_selection import GridSearchCV\n",
    "from nltk.tokenize import word_tokenize\n",
    "import nltk\n",
    "nltk.download('punkt', quiet=True)\n",
    "nltk.download('averaged_perceptron_tagger', quiet=True)\n",
    "nltk.download('wordnet', quiet=True)\n",
    "nltk.download('omw-1.4', quiet=True)\n",
    "from nltk.corpus import stopwords, wordnet\n",
    "from nltk import pos_tag\n",
    "import string\n",
    "from nltk.stem import WordNetLemmatizer\n",
    "import re\n",
    "from collections import Counter"
   ]
  },
  {
   "cell_type": "code",
   "execution_count": 45,
   "id": "901d5537",
   "metadata": {},
   "outputs": [
    {
     "name": "stdout",
     "output_type": "stream",
     "text": [
      "<class 'pandas.core.frame.DataFrame'>\n",
      "RangeIndex: 33396 entries, 0 to 33395\n",
      "Data columns (total 10 columns):\n",
      " #   Column         Non-Null Count  Dtype  \n",
      "---  ------         --------------  -----  \n",
      " 0   reviewer_id    33396 non-null  int64  \n",
      " 1   store_name     33396 non-null  object \n",
      " 2   category       33396 non-null  object \n",
      " 3   store_address  33396 non-null  object \n",
      " 4   latitude       32736 non-null  float64\n",
      " 5   longitude      32736 non-null  float64\n",
      " 6   rating_count   33396 non-null  object \n",
      " 7   review_time    33396 non-null  object \n",
      " 8   review         33396 non-null  object \n",
      " 9   rating         33396 non-null  object \n",
      "dtypes: float64(2), int64(1), object(7)\n",
      "memory usage: 2.5+ MB\n",
      "<class 'pandas.core.frame.DataFrame'>\n",
      "RangeIndex: 33396 entries, 0 to 33395\n",
      "Data columns (total 7 columns):\n",
      " #   Column         Non-Null Count  Dtype  \n",
      "---  ------         --------------  -----  \n",
      " 0   store_address  33396 non-null  object \n",
      " 1   latitude       32736 non-null  float64\n",
      " 2   longitude      32736 non-null  float64\n",
      " 3   rating_count   33396 non-null  object \n",
      " 4   review_time    33396 non-null  object \n",
      " 5   review         33396 non-null  object \n",
      " 6   rating         33396 non-null  object \n",
      "dtypes: float64(2), object(5)\n",
      "memory usage: 1.8+ MB\n",
      "Index(['store_address', 'latitude ', 'longitude', 'rating_count',\n",
      "       'review_time', 'review', 'rating'],\n",
      "      dtype='object')\n",
      "Index(['store_address', 'latitude', 'longitude', 'rating_count', 'review_time',\n",
      "       'review', 'rating'],\n",
      "      dtype='object')\n",
      "                                           store_address  latitude  longitude  \\\n",
      "22141  2476 Kalï¿½ï¿½ï¿½ï¿½ï¿½ï¿½ï¿½ï¿½ï¿½ï¿½ï¿½ï¿½ï¿...       NaN        NaN   \n",
      "22142  2476 Kalï¿½ï¿½ï¿½ï¿½ï¿½ï¿½ï¿½ï¿½ï¿½ï¿½ï¿½ï¿½ï¿...       NaN        NaN   \n",
      "22143  2476 Kalï¿½ï¿½ï¿½ï¿½ï¿½ï¿½ï¿½ï¿½ï¿½ï¿½ï¿½ï¿½ï¿...       NaN        NaN   \n",
      "22144  2476 Kalï¿½ï¿½ï¿½ï¿½ï¿½ï¿½ï¿½ï¿½ï¿½ï¿½ï¿½ï¿½ï¿...       NaN        NaN   \n",
      "22145  2476 Kalï¿½ï¿½ï¿½ï¿½ï¿½ï¿½ï¿½ï¿½ï¿½ï¿½ï¿½ï¿½ï¿...       NaN        NaN   \n",
      "...                                                  ...       ...        ...   \n",
      "27719  2476 Kalï¿½ï¿½ï¿½ï¿½ï¿½ï¿½ï¿½ï¿½ï¿½ï¿½ï¿½ï¿½ï¿...       NaN        NaN   \n",
      "27720  2476 Kalï¿½ï¿½ï¿½ï¿½ï¿½ï¿½ï¿½ï¿½ï¿½ï¿½ï¿½ï¿½ï¿...       NaN        NaN   \n",
      "27721  2476 Kalï¿½ï¿½ï¿½ï¿½ï¿½ï¿½ï¿½ï¿½ï¿½ï¿½ï¿½ï¿½ï¿...       NaN        NaN   \n",
      "27722  2476 Kalï¿½ï¿½ï¿½ï¿½ï¿½ï¿½ï¿½ï¿½ï¿½ï¿½ï¿½ï¿½ï¿...       NaN        NaN   \n",
      "27723  2476 Kalï¿½ï¿½ï¿½ï¿½ï¿½ï¿½ï¿½ï¿½ï¿½ï¿½ï¿½ï¿½ï¿...       NaN        NaN   \n",
      "\n",
      "      rating_count    review_time  \\\n",
      "22141        2,175   3 months ago   \n",
      "22142        2,175     a year ago   \n",
      "22143        2,175    2 weeks ago   \n",
      "22144        2,175    a month ago   \n",
      "22145        2,175   2 months ago   \n",
      "...            ...            ...   \n",
      "27719        2,175    3 years ago   \n",
      "27720        2,175  11 months ago   \n",
      "27721        2,175  11 months ago   \n",
      "27722        2,175  11 months ago   \n",
      "27723        2,175   8 months ago   \n",
      "\n",
      "                                                  review   rating  \n",
      "22141  Breakfast specials are good. The sausage burri...  4 stars  \n",
      "22142  This isn't your typical McDonald's. This place...  5 stars  \n",
      "22143  This place was serving good quality breakfast ...  4 stars  \n",
      "22144  I understand this is a very busy location but ...   1 star  \n",
      "22145  When I arrived at McDonald's, it was very crow...  4 stars  \n",
      "...                                                  ...      ...  \n",
      "27719  This McDonald's is across the street from Waik...  5 stars  \n",
      "27720  Seems like, they always makes some mistakes wh...  2 stars  \n",
      "27721  Convenient to the east end of Kalakaua Ave. Lo...  4 stars  \n",
      "27722  Lost McDonald's in Honolulu, if you can avoid ...   1 star  \n",
      "27723  Everytime I visit Waikiki for a vacation this ...   1 star  \n",
      "\n",
      "[660 rows x 7 columns]\n",
      "<class 'pandas.core.frame.DataFrame'>\n",
      "Index: 32736 entries, 0 to 33395\n",
      "Data columns (total 7 columns):\n",
      " #   Column         Non-Null Count  Dtype  \n",
      "---  ------         --------------  -----  \n",
      " 0   store_address  32736 non-null  object \n",
      " 1   latitude       32736 non-null  float64\n",
      " 2   longitude      32736 non-null  float64\n",
      " 3   rating_count   32736 non-null  object \n",
      " 4   review_time    32736 non-null  object \n",
      " 5   review         32736 non-null  object \n",
      " 6   rating         32736 non-null  object \n",
      "dtypes: float64(2), object(5)\n",
      "memory usage: 2.0+ MB\n",
      "<class 'pandas.core.frame.DataFrame'>\n",
      "Index: 32736 entries, 0 to 33395\n",
      "Data columns (total 7 columns):\n",
      " #   Column         Non-Null Count  Dtype  \n",
      "---  ------         --------------  -----  \n",
      " 0   store_address  32736 non-null  object \n",
      " 1   latitude       32736 non-null  float64\n",
      " 2   longitude      32736 non-null  float64\n",
      " 3   rating_count   32736 non-null  object \n",
      " 4   review_time    32736 non-null  object \n",
      " 5   review         32736 non-null  object \n",
      " 6   rating         32736 non-null  float64\n",
      "dtypes: float64(3), object(4)\n",
      "memory usage: 2.0+ MB\n",
      "float64\n"
     ]
    }
   ],
   "source": [
    "%run Data_Cleaning_Notebook.ipynb"
   ]
  },
  {
   "cell_type": "code",
   "execution_count": 2,
   "id": "fab4de93",
   "metadata": {},
   "outputs": [
    {
     "data": {
      "text/html": [
       "<div>\n",
       "<style scoped>\n",
       "    .dataframe tbody tr th:only-of-type {\n",
       "        vertical-align: middle;\n",
       "    }\n",
       "\n",
       "    .dataframe tbody tr th {\n",
       "        vertical-align: top;\n",
       "    }\n",
       "\n",
       "    .dataframe thead th {\n",
       "        text-align: right;\n",
       "    }\n",
       "</style>\n",
       "<table border=\"1\" class=\"dataframe\">\n",
       "  <thead>\n",
       "    <tr style=\"text-align: right;\">\n",
       "      <th></th>\n",
       "      <th>store_address</th>\n",
       "      <th>latitude</th>\n",
       "      <th>longitude</th>\n",
       "      <th>rating_count</th>\n",
       "      <th>review_time</th>\n",
       "      <th>review</th>\n",
       "      <th>rating</th>\n",
       "    </tr>\n",
       "  </thead>\n",
       "  <tbody>\n",
       "    <tr>\n",
       "      <th>0</th>\n",
       "      <td>13749 US-183 Hwy, Austin, TX 78750, United States</td>\n",
       "      <td>30.460718</td>\n",
       "      <td>-97.792874</td>\n",
       "      <td>1,240</td>\n",
       "      <td>3 months ago</td>\n",
       "      <td>Why does it look like someone spit on my food?...</td>\n",
       "      <td>1.0</td>\n",
       "    </tr>\n",
       "    <tr>\n",
       "      <th>1</th>\n",
       "      <td>13749 US-183 Hwy, Austin, TX 78750, United States</td>\n",
       "      <td>30.460718</td>\n",
       "      <td>-97.792874</td>\n",
       "      <td>1,240</td>\n",
       "      <td>5 days ago</td>\n",
       "      <td>It'd McDonalds. It is what it is as far as the...</td>\n",
       "      <td>4.0</td>\n",
       "    </tr>\n",
       "    <tr>\n",
       "      <th>2</th>\n",
       "      <td>13749 US-183 Hwy, Austin, TX 78750, United States</td>\n",
       "      <td>30.460718</td>\n",
       "      <td>-97.792874</td>\n",
       "      <td>1,240</td>\n",
       "      <td>5 days ago</td>\n",
       "      <td>Made a mobile order got to the speaker and che...</td>\n",
       "      <td>1.0</td>\n",
       "    </tr>\n",
       "    <tr>\n",
       "      <th>3</th>\n",
       "      <td>13749 US-183 Hwy, Austin, TX 78750, United States</td>\n",
       "      <td>30.460718</td>\n",
       "      <td>-97.792874</td>\n",
       "      <td>1,240</td>\n",
       "      <td>a month ago</td>\n",
       "      <td>My mc. Crispy chicken sandwich was Ã¯Â¿Â½Ã¯Â¿Â...</td>\n",
       "      <td>5.0</td>\n",
       "    </tr>\n",
       "    <tr>\n",
       "      <th>4</th>\n",
       "      <td>13749 US-183 Hwy, Austin, TX 78750, United States</td>\n",
       "      <td>30.460718</td>\n",
       "      <td>-97.792874</td>\n",
       "      <td>1,240</td>\n",
       "      <td>2 months ago</td>\n",
       "      <td>I repeat my order 3 times in the drive thru, a...</td>\n",
       "      <td>1.0</td>\n",
       "    </tr>\n",
       "    <tr>\n",
       "      <th>...</th>\n",
       "      <td>...</td>\n",
       "      <td>...</td>\n",
       "      <td>...</td>\n",
       "      <td>...</td>\n",
       "      <td>...</td>\n",
       "      <td>...</td>\n",
       "      <td>...</td>\n",
       "    </tr>\n",
       "    <tr>\n",
       "      <th>33391</th>\n",
       "      <td>3501 Biscayne Blvd, Miami, FL 33137, United St...</td>\n",
       "      <td>25.810000</td>\n",
       "      <td>-80.189098</td>\n",
       "      <td>2,810</td>\n",
       "      <td>4 years ago</td>\n",
       "      <td>They treated me very badly.</td>\n",
       "      <td>1.0</td>\n",
       "    </tr>\n",
       "    <tr>\n",
       "      <th>33392</th>\n",
       "      <td>3501 Biscayne Blvd, Miami, FL 33137, United St...</td>\n",
       "      <td>25.810000</td>\n",
       "      <td>-80.189098</td>\n",
       "      <td>2,810</td>\n",
       "      <td>a year ago</td>\n",
       "      <td>The service is very good</td>\n",
       "      <td>5.0</td>\n",
       "    </tr>\n",
       "    <tr>\n",
       "      <th>33393</th>\n",
       "      <td>3501 Biscayne Blvd, Miami, FL 33137, United St...</td>\n",
       "      <td>25.810000</td>\n",
       "      <td>-80.189098</td>\n",
       "      <td>2,810</td>\n",
       "      <td>a year ago</td>\n",
       "      <td>To remove hunger is enough</td>\n",
       "      <td>4.0</td>\n",
       "    </tr>\n",
       "    <tr>\n",
       "      <th>33394</th>\n",
       "      <td>3501 Biscayne Blvd, Miami, FL 33137, United St...</td>\n",
       "      <td>25.810000</td>\n",
       "      <td>-80.189098</td>\n",
       "      <td>2,810</td>\n",
       "      <td>5 years ago</td>\n",
       "      <td>It's good, but lately it has become very expen...</td>\n",
       "      <td>5.0</td>\n",
       "    </tr>\n",
       "    <tr>\n",
       "      <th>33395</th>\n",
       "      <td>3501 Biscayne Blvd, Miami, FL 33137, United St...</td>\n",
       "      <td>25.810000</td>\n",
       "      <td>-80.189098</td>\n",
       "      <td>2,810</td>\n",
       "      <td>2 years ago</td>\n",
       "      <td>they took good care of me</td>\n",
       "      <td>5.0</td>\n",
       "    </tr>\n",
       "  </tbody>\n",
       "</table>\n",
       "<p>32736 rows × 7 columns</p>\n",
       "</div>"
      ],
      "text/plain": [
       "                                           store_address   latitude  \\\n",
       "0      13749 US-183 Hwy, Austin, TX 78750, United States  30.460718   \n",
       "1      13749 US-183 Hwy, Austin, TX 78750, United States  30.460718   \n",
       "2      13749 US-183 Hwy, Austin, TX 78750, United States  30.460718   \n",
       "3      13749 US-183 Hwy, Austin, TX 78750, United States  30.460718   \n",
       "4      13749 US-183 Hwy, Austin, TX 78750, United States  30.460718   \n",
       "...                                                  ...        ...   \n",
       "33391  3501 Biscayne Blvd, Miami, FL 33137, United St...  25.810000   \n",
       "33392  3501 Biscayne Blvd, Miami, FL 33137, United St...  25.810000   \n",
       "33393  3501 Biscayne Blvd, Miami, FL 33137, United St...  25.810000   \n",
       "33394  3501 Biscayne Blvd, Miami, FL 33137, United St...  25.810000   \n",
       "33395  3501 Biscayne Blvd, Miami, FL 33137, United St...  25.810000   \n",
       "\n",
       "       longitude rating_count   review_time  \\\n",
       "0     -97.792874        1,240  3 months ago   \n",
       "1     -97.792874        1,240    5 days ago   \n",
       "2     -97.792874        1,240    5 days ago   \n",
       "3     -97.792874        1,240   a month ago   \n",
       "4     -97.792874        1,240  2 months ago   \n",
       "...          ...          ...           ...   \n",
       "33391 -80.189098        2,810   4 years ago   \n",
       "33392 -80.189098        2,810    a year ago   \n",
       "33393 -80.189098        2,810    a year ago   \n",
       "33394 -80.189098        2,810   5 years ago   \n",
       "33395 -80.189098        2,810   2 years ago   \n",
       "\n",
       "                                                  review  rating  \n",
       "0      Why does it look like someone spit on my food?...     1.0  \n",
       "1      It'd McDonalds. It is what it is as far as the...     4.0  \n",
       "2      Made a mobile order got to the speaker and che...     1.0  \n",
       "3      My mc. Crispy chicken sandwich was Ã¯Â¿Â½Ã¯Â¿Â...     5.0  \n",
       "4      I repeat my order 3 times in the drive thru, a...     1.0  \n",
       "...                                                  ...     ...  \n",
       "33391                        They treated me very badly.     1.0  \n",
       "33392                           The service is very good     5.0  \n",
       "33393                         To remove hunger is enough     4.0  \n",
       "33394  It's good, but lately it has become very expen...     5.0  \n",
       "33395                          they took good care of me     5.0  \n",
       "\n",
       "[32736 rows x 7 columns]"
      ]
     },
     "execution_count": 2,
     "metadata": {},
     "output_type": "execute_result"
    }
   ],
   "source": [
    "df_cleaned = pd.read_csv('data/cleaned.csv', encoding='latin-1', index_col=0)\n",
    "df_cleaned"
   ]
  },
  {
   "cell_type": "code",
   "execution_count": 46,
   "id": "e10beac3",
   "metadata": {},
   "outputs": [
    {
     "name": "stdout",
     "output_type": "stream",
     "text": [
      "rating\n",
      "5.0    10059\n",
      "1.0     9305\n",
      "4.0     5646\n",
      "3.0     4706\n",
      "2.0     3020\n",
      "Name: count, dtype: int64\n",
      "rating\n",
      "5.0    0.307276\n",
      "1.0    0.284244\n",
      "4.0    0.172471\n",
      "3.0    0.143756\n",
      "2.0    0.092253\n",
      "Name: count, dtype: float64\n"
     ]
    }
   ],
   "source": [
    "class_distribution = df_cleaned['rating'].value_counts()\n",
    "print(class_distribution)\n",
    "\n",
    "class_proportion = class_distribution / len(df_cleaned)\n",
    "print(class_proportion)\n"
   ]
  },
  {
   "cell_type": "markdown",
   "id": "5f22d9a4",
   "metadata": {},
   "source": [
    "LabelEncoder for 'rating' column. Dataset imbalanced, will have better accuracy scores."
   ]
  },
  {
   "cell_type": "markdown",
   "id": "338c13ba",
   "metadata": {},
   "source": [
    "Change 'ratings' to binary of Negative (1, 2, 3) or Positive (4, 5)"
   ]
  },
  {
   "cell_type": "code",
   "execution_count": 3,
   "id": "9b5dc159",
   "metadata": {},
   "outputs": [],
   "source": [
    "le = LabelEncoder()"
   ]
  },
  {
   "cell_type": "code",
   "execution_count": 4,
   "id": "67836f13",
   "metadata": {},
   "outputs": [
    {
     "name": "stdout",
     "output_type": "stream",
     "text": [
      "rating\n",
      "5.0    10059\n",
      "1.0     9305\n",
      "4.0     5646\n",
      "3.0     4706\n",
      "2.0     3020\n",
      "Name: count, dtype: int64\n"
     ]
    }
   ],
   "source": [
    "print(df_cleaned['rating'].value_counts())"
   ]
  },
  {
   "cell_type": "code",
   "execution_count": 5,
   "id": "ba545a60",
   "metadata": {},
   "outputs": [],
   "source": [
    "df_cleaned['nps_rating'] = df_cleaned['rating'].apply(lambda x: 0 if x in [1.0, 2.0, 3.0] else 1)"
   ]
  },
  {
   "cell_type": "code",
   "execution_count": 6,
   "id": "960ae774",
   "metadata": {},
   "outputs": [
    {
     "data": {
      "text/plain": [
       "nps_rating\n",
       "0    17031\n",
       "1    15705\n",
       "Name: count, dtype: int64"
      ]
     },
     "execution_count": 6,
     "metadata": {},
     "output_type": "execute_result"
    }
   ],
   "source": [
    "df_cleaned['nps_rating'].value_counts()"
   ]
  },
  {
   "cell_type": "code",
   "execution_count": 7,
   "id": "8151aa85",
   "metadata": {},
   "outputs": [
    {
     "name": "stdout",
     "output_type": "stream",
     "text": [
      "<class 'pandas.core.frame.DataFrame'>\n",
      "Index: 32736 entries, 0 to 33395\n",
      "Data columns (total 8 columns):\n",
      " #   Column         Non-Null Count  Dtype  \n",
      "---  ------         --------------  -----  \n",
      " 0   store_address  32736 non-null  object \n",
      " 1   latitude       32736 non-null  float64\n",
      " 2   longitude      32736 non-null  float64\n",
      " 3   rating_count   32736 non-null  object \n",
      " 4   review_time    32736 non-null  object \n",
      " 5   review         32736 non-null  object \n",
      " 6   rating         32736 non-null  float64\n",
      " 7   nps_rating     32736 non-null  int64  \n",
      "dtypes: float64(3), int64(1), object(4)\n",
      "memory usage: 2.2+ MB\n"
     ]
    }
   ],
   "source": [
    "df_cleaned.info()"
   ]
  },
  {
   "cell_type": "code",
   "execution_count": 8,
   "id": "ddab9829",
   "metadata": {},
   "outputs": [
    {
     "data": {
      "text/html": [
       "<div>\n",
       "<style scoped>\n",
       "    .dataframe tbody tr th:only-of-type {\n",
       "        vertical-align: middle;\n",
       "    }\n",
       "\n",
       "    .dataframe tbody tr th {\n",
       "        vertical-align: top;\n",
       "    }\n",
       "\n",
       "    .dataframe thead th {\n",
       "        text-align: right;\n",
       "    }\n",
       "</style>\n",
       "<table border=\"1\" class=\"dataframe\">\n",
       "  <thead>\n",
       "    <tr style=\"text-align: right;\">\n",
       "      <th></th>\n",
       "      <th>review</th>\n",
       "      <th>nps_rating</th>\n",
       "    </tr>\n",
       "  </thead>\n",
       "  <tbody>\n",
       "    <tr>\n",
       "      <th>0</th>\n",
       "      <td>Why does it look like someone spit on my food?...</td>\n",
       "      <td>0</td>\n",
       "    </tr>\n",
       "    <tr>\n",
       "      <th>1</th>\n",
       "      <td>It'd McDonalds. It is what it is as far as the...</td>\n",
       "      <td>1</td>\n",
       "    </tr>\n",
       "    <tr>\n",
       "      <th>2</th>\n",
       "      <td>Made a mobile order got to the speaker and che...</td>\n",
       "      <td>0</td>\n",
       "    </tr>\n",
       "    <tr>\n",
       "      <th>3</th>\n",
       "      <td>My mc. Crispy chicken sandwich was Ã¯Â¿Â½Ã¯Â¿Â...</td>\n",
       "      <td>1</td>\n",
       "    </tr>\n",
       "    <tr>\n",
       "      <th>4</th>\n",
       "      <td>I repeat my order 3 times in the drive thru, a...</td>\n",
       "      <td>0</td>\n",
       "    </tr>\n",
       "  </tbody>\n",
       "</table>\n",
       "</div>"
      ],
      "text/plain": [
       "                                              review  nps_rating\n",
       "0  Why does it look like someone spit on my food?...           0\n",
       "1  It'd McDonalds. It is what it is as far as the...           1\n",
       "2  Made a mobile order got to the speaker and che...           0\n",
       "3  My mc. Crispy chicken sandwich was Ã¯Â¿Â½Ã¯Â¿Â...           1\n",
       "4  I repeat my order 3 times in the drive thru, a...           0"
      ]
     },
     "execution_count": 8,
     "metadata": {},
     "output_type": "execute_result"
    }
   ],
   "source": [
    "df_cleaned[['review', 'nps_rating']].head()"
   ]
  },
  {
   "cell_type": "markdown",
   "id": "4ea6b98f",
   "metadata": {},
   "source": [
    "Pre-processing time. Make lowercase, remove punctuation, special characters, keep time sensitive text, example: 'food was 30 min late!'"
   ]
  },
  {
   "cell_type": "code",
   "execution_count": 9,
   "id": "fc78f044",
   "metadata": {},
   "outputs": [
    {
     "data": {
      "text/plain": [
       "0    Why does it look like someone spit on my food?...\n",
       "1    It'd McDonalds. It is what it is as far as the...\n",
       "2    Made a mobile order got to the speaker and che...\n",
       "3    My mc. Crispy chicken sandwich was Ã¯Â¿Â½Ã¯Â¿Â...\n",
       "4    I repeat my order 3 times in the drive thru, a...\n",
       "Name: review, dtype: object"
      ]
     },
     "execution_count": 9,
     "metadata": {},
     "output_type": "execute_result"
    }
   ],
   "source": [
    "df_cleaned['review'].head()"
   ]
  },
  {
   "cell_type": "code",
   "execution_count": 10,
   "id": "54853b35",
   "metadata": {},
   "outputs": [
    {
     "data": {
      "text/plain": [
       "0    why does it look like someone spit on my food?...\n",
       "1    it'd mcdonalds. it is what it is as far as the...\n",
       "2    made a mobile order got to the speaker and che...\n",
       "3    my mc. crispy chicken sandwich was ã¯â¿â½ã¯â¿â...\n",
       "4    i repeat my order 3 times in the drive thru, a...\n",
       "Name: review, dtype: object"
      ]
     },
     "execution_count": 10,
     "metadata": {},
     "output_type": "execute_result"
    }
   ],
   "source": [
    "df_cleaned['review'] = df_cleaned['review'].str.lower()\n",
    "df_cleaned['review'].head()"
   ]
  },
  {
   "cell_type": "code",
   "execution_count": 11,
   "id": "3f8f6cee",
   "metadata": {},
   "outputs": [
    {
     "name": "stdout",
     "output_type": "stream",
     "text": [
      "my mc. crispy chicken sandwich was ã¯â¿â½ã¯â¿â½ã¯â¿â½ã¯â¿â½ã¯â¿â½ã¯â¿â½ã¯â¿â½ã¯â¿â½ã¯â¿â½ã¯â¿â½ã¯â¿â½ã¯â¿â½ã¯â¿â½ã¯â¿â½ã¯â¿â½ã¯â¿â½ã¯â¿â½ã¯â¿â½ã¯â¿â½ã¯â¿â½ã¯â¿â½ã¯â¿â½ã¯â¿â½ã¯â¿â½ã¯â¿â½ã¯â¿â½ã¯â¿â½ã¯â¿â½ã¯â¿â½ã¯â¿â½ã¯â¿â½ã¯â¿â½ã¯â¿â½ã¯â¿â½ã¯â¿â½ã¯â¿â½ customer service was quick and p\n"
     ]
    }
   ],
   "source": [
    "print(df_cleaned.iloc[3]['review'])"
   ]
  },
  {
   "cell_type": "code",
   "execution_count": 12,
   "id": "a9677725",
   "metadata": {},
   "outputs": [
    {
     "name": "stdout",
     "output_type": "stream",
     "text": [
      "0    why does it look like someone spit on my food\\...\n",
      "1    itd mcdonalds it is what it is as far as the f...\n",
      "2    made a mobile order got to the speaker and che...\n",
      "3    my mc crispy chicken sandwich was ãââ½ãââ½ãââ½...\n",
      "4    i repeat my order 3 times in the drive thru an...\n",
      "Name: review, dtype: object\n"
     ]
    }
   ],
   "source": [
    "df_cleaned['review'] = df_cleaned['review'].str.replace(r'[^\\w\\s]', '', regex=True)\n",
    "print(df_cleaned['review'].head())"
   ]
  },
  {
   "cell_type": "code",
   "execution_count": 13,
   "id": "3f14852d",
   "metadata": {},
   "outputs": [
    {
     "name": "stdout",
     "output_type": "stream",
     "text": [
      "just spent 10 minutes waiting at this mcdonalds  according to google theyre open 247 finally we pull up to the window to see if anyone was there sure enough one employee seated in the lobby and another at the window she told me they were closed whoever these two are they need to be replaced get it together mcdonalds youre a corporate power house and you have a reputation to keep one of the most unprofessional experiences ive ever had with fast food 010 would not recomend this location\n"
     ]
    }
   ],
   "source": [
    "print(df_cleaned.iloc[33]['review'])"
   ]
  },
  {
   "cell_type": "markdown",
   "id": "429cfca8",
   "metadata": {},
   "source": [
    "Remove all nonsensical reviews with special characters"
   ]
  },
  {
   "cell_type": "code",
   "execution_count": 14,
   "id": "07428171",
   "metadata": {},
   "outputs": [],
   "source": [
    "pattern = r'^[a-zA-Z0-9 .,?!:;\\'\\\"]+$'"
   ]
  },
  {
   "cell_type": "code",
   "execution_count": 15,
   "id": "504e8bcc",
   "metadata": {},
   "outputs": [],
   "source": [
    "df_filtered = df_cleaned[df_cleaned['review'].str.match(pattern, na=False)]"
   ]
  },
  {
   "cell_type": "code",
   "execution_count": 16,
   "id": "c27a25a2",
   "metadata": {},
   "outputs": [
    {
     "name": "stdout",
     "output_type": "stream",
     "text": [
      "Original number of rows: 32736\n",
      "Number of rows after filtering: 28609\n"
     ]
    }
   ],
   "source": [
    "print(\"Original number of rows:\", df_cleaned.shape[0])\n",
    "print(\"Number of rows after filtering:\", df_filtered.shape[0])"
   ]
  },
  {
   "cell_type": "markdown",
   "id": "ca624acb",
   "metadata": {},
   "source": [
    "Leaves me with 28k+ reviews. Good size dataset."
   ]
  },
  {
   "cell_type": "code",
   "execution_count": 17,
   "id": "c2075f3c",
   "metadata": {},
   "outputs": [
    {
     "name": "stderr",
     "output_type": "stream",
     "text": [
      "<ipython-input-17-8f49157e3f22>:1: SettingWithCopyWarning: \n",
      "A value is trying to be set on a copy of a slice from a DataFrame.\n",
      "Try using .loc[row_indexer,col_indexer] = value instead\n",
      "\n",
      "See the caveats in the documentation: https://pandas.pydata.org/pandas-docs/stable/user_guide/indexing.html#returning-a-view-versus-a-copy\n",
      "  df_filtered['review'] = df_filtered['review'].astype('str')\n"
     ]
    }
   ],
   "source": [
    "df_filtered['review'] = df_filtered['review'].astype('str')"
   ]
  },
  {
   "cell_type": "code",
   "execution_count": 18,
   "id": "8c86ec3c",
   "metadata": {},
   "outputs": [
    {
     "name": "stderr",
     "output_type": "stream",
     "text": [
      "<ipython-input-18-f612b11035d8>:4: SettingWithCopyWarning: \n",
      "A value is trying to be set on a copy of a slice from a DataFrame.\n",
      "Try using .loc[row_indexer,col_indexer] = value instead\n",
      "\n",
      "See the caveats in the documentation: https://pandas.pydata.org/pandas-docs/stable/user_guide/indexing.html#returning-a-view-versus-a-copy\n",
      "  df_filtered['review'] = df_filtered['review'].apply(lowercase)\n"
     ]
    }
   ],
   "source": [
    "def lowercase(text):\n",
    "    return text.lower()\n",
    "\n",
    "df_filtered['review'] = df_filtered['review'].apply(lowercase)"
   ]
  },
  {
   "cell_type": "code",
   "execution_count": 19,
   "id": "223e91c5",
   "metadata": {},
   "outputs": [],
   "source": [
    "def text_clean(text):\n",
    "    # Normalize spaces around numbers to help with pattern matching\n",
    "    text = re.sub(r'(\\d+)', r' \\1 ', text)\n",
    "    \n",
    "    # Remove URLs\n",
    "    text = re.sub(\"https?://\\S+|www\\.\\S+\", \"\", text)\n",
    "    \n",
    "    # Attempt to preserve time expressions and similar numeric patterns\n",
    "    # Define patterns to preserve, e.g., \"X minutes\", \"24 7\" (since punctuation is removed)\n",
    "    time_patterns = [\n",
    "        r'\\b\\d+\\s*hours\\b',  # Matches \"2 hours\"\n",
    "        r'\\b\\d+\\s*minutes\\b',  # Matches \"30 minutes\"\n",
    "        r'\\b24\\s*7\\b',  # Matches \"24 7\"\n",
    "        \n",
    "    ]\n",
    "    \n",
    "    # Combine all patterns into a single regex\n",
    "    combined_pattern = '|'.join(time_patterns)\n",
    "    \n",
    "    # Find all matches of the combined pattern in the text\n",
    "    preserved_terms = re.findall(combined_pattern, text)\n",
    "    \n",
    "    # Remove standalone numbers and specific numeric patterns not part of preserved expressions\n",
    "    text = re.sub(r'\\b\\d+\\b', ' ', text)  # Remove standalone numbers\n",
    "    text = re.sub(r'\\b(19|20)\\d{2}\\b', ' ', text)  # Remove standalone years\n",
    "    \n",
    "    # Reinsert preserved terms back into text (optional based on your logic for handling overlaps)\n",
    "    for term in preserved_terms:\n",
    "        text += ' ' + term  # Append preserved terms at the end; consider more sophisticated merging if necessary\n",
    "    \n",
    "    # Remove stopwords\n",
    "    stop_words = set(stopwords.words('english'))\n",
    "    words = text.split()\n",
    "    filtered_words = [word for word in words if word not in stop_words]\n",
    "    text = ' '.join(filtered_words)\n",
    "    \n",
    "    # Normalize whitespace\n",
    "    text = re.sub('\\s+', ' ', text).strip()\n",
    "    \n",
    "    return text"
   ]
  },
  {
   "cell_type": "code",
   "execution_count": 20,
   "id": "080a9144",
   "metadata": {},
   "outputs": [
    {
     "data": {
      "text/html": [
       "<div>\n",
       "<style scoped>\n",
       "    .dataframe tbody tr th:only-of-type {\n",
       "        vertical-align: middle;\n",
       "    }\n",
       "\n",
       "    .dataframe tbody tr th {\n",
       "        vertical-align: top;\n",
       "    }\n",
       "\n",
       "    .dataframe thead th {\n",
       "        text-align: right;\n",
       "    }\n",
       "</style>\n",
       "<table border=\"1\" class=\"dataframe\">\n",
       "  <thead>\n",
       "    <tr style=\"text-align: right;\">\n",
       "      <th></th>\n",
       "      <th>store_address</th>\n",
       "      <th>latitude</th>\n",
       "      <th>longitude</th>\n",
       "      <th>rating_count</th>\n",
       "      <th>review_time</th>\n",
       "      <th>review</th>\n",
       "      <th>rating</th>\n",
       "      <th>nps_rating</th>\n",
       "    </tr>\n",
       "  </thead>\n",
       "  <tbody>\n",
       "    <tr>\n",
       "      <th>0</th>\n",
       "      <td>13749 US-183 Hwy, Austin, TX 78750, United States</td>\n",
       "      <td>30.460718</td>\n",
       "      <td>-97.792874</td>\n",
       "      <td>1,240</td>\n",
       "      <td>5 days ago</td>\n",
       "      <td>itd mcdonalds it is what it is as far as the f...</td>\n",
       "      <td>4.0</td>\n",
       "      <td>1</td>\n",
       "    </tr>\n",
       "    <tr>\n",
       "      <th>1</th>\n",
       "      <td>13749 US-183 Hwy, Austin, TX 78750, United States</td>\n",
       "      <td>30.460718</td>\n",
       "      <td>-97.792874</td>\n",
       "      <td>1,240</td>\n",
       "      <td>2 months ago</td>\n",
       "      <td>i repeat my order 3 times in the drive thru an...</td>\n",
       "      <td>1.0</td>\n",
       "      <td>0</td>\n",
       "    </tr>\n",
       "    <tr>\n",
       "      <th>2</th>\n",
       "      <td>13749 US-183 Hwy, Austin, TX 78750, United States</td>\n",
       "      <td>30.460718</td>\n",
       "      <td>-97.792874</td>\n",
       "      <td>1,240</td>\n",
       "      <td>3 weeks ago</td>\n",
       "      <td>i work for door dash and they locked us all ou...</td>\n",
       "      <td>1.0</td>\n",
       "      <td>0</td>\n",
       "    </tr>\n",
       "    <tr>\n",
       "      <th>3</th>\n",
       "      <td>13749 US-183 Hwy, Austin, TX 78750, United States</td>\n",
       "      <td>30.460718</td>\n",
       "      <td>-97.792874</td>\n",
       "      <td>1,240</td>\n",
       "      <td>3 months ago</td>\n",
       "      <td>if i  could give this location a zero on custo...</td>\n",
       "      <td>1.0</td>\n",
       "      <td>0</td>\n",
       "    </tr>\n",
       "    <tr>\n",
       "      <th>4</th>\n",
       "      <td>13749 US-183 Hwy, Austin, TX 78750, United States</td>\n",
       "      <td>30.460718</td>\n",
       "      <td>-97.792874</td>\n",
       "      <td>1,240</td>\n",
       "      <td>3 months ago</td>\n",
       "      <td>went thru drive thru ordered getting home noti...</td>\n",
       "      <td>1.0</td>\n",
       "      <td>0</td>\n",
       "    </tr>\n",
       "  </tbody>\n",
       "</table>\n",
       "</div>"
      ],
      "text/plain": [
       "                                       store_address   latitude  longitude  \\\n",
       "0  13749 US-183 Hwy, Austin, TX 78750, United States  30.460718 -97.792874   \n",
       "1  13749 US-183 Hwy, Austin, TX 78750, United States  30.460718 -97.792874   \n",
       "2  13749 US-183 Hwy, Austin, TX 78750, United States  30.460718 -97.792874   \n",
       "3  13749 US-183 Hwy, Austin, TX 78750, United States  30.460718 -97.792874   \n",
       "4  13749 US-183 Hwy, Austin, TX 78750, United States  30.460718 -97.792874   \n",
       "\n",
       "  rating_count   review_time  \\\n",
       "0        1,240    5 days ago   \n",
       "1        1,240  2 months ago   \n",
       "2        1,240   3 weeks ago   \n",
       "3        1,240  3 months ago   \n",
       "4        1,240  3 months ago   \n",
       "\n",
       "                                              review  rating  nps_rating  \n",
       "0  itd mcdonalds it is what it is as far as the f...     4.0           1  \n",
       "1  i repeat my order 3 times in the drive thru an...     1.0           0  \n",
       "2  i work for door dash and they locked us all ou...     1.0           0  \n",
       "3  if i  could give this location a zero on custo...     1.0           0  \n",
       "4  went thru drive thru ordered getting home noti...     1.0           0  "
      ]
     },
     "execution_count": 20,
     "metadata": {},
     "output_type": "execute_result"
    }
   ],
   "source": [
    "df_filtered.reset_index(drop=True, inplace=True)\n",
    "df_filtered.head()"
   ]
  },
  {
   "cell_type": "code",
   "execution_count": 21,
   "id": "c9ecff03",
   "metadata": {},
   "outputs": [
    {
     "name": "stdout",
     "output_type": "stream",
     "text": [
      "<class 'pandas.core.frame.DataFrame'>\n",
      "RangeIndex: 28609 entries, 0 to 28608\n",
      "Data columns (total 8 columns):\n",
      " #   Column         Non-Null Count  Dtype  \n",
      "---  ------         --------------  -----  \n",
      " 0   store_address  28609 non-null  object \n",
      " 1   latitude       28609 non-null  float64\n",
      " 2   longitude      28609 non-null  float64\n",
      " 3   rating_count   28609 non-null  object \n",
      " 4   review_time    28609 non-null  object \n",
      " 5   review         28609 non-null  object \n",
      " 6   rating         28609 non-null  float64\n",
      " 7   nps_rating     28609 non-null  int64  \n",
      "dtypes: float64(3), int64(1), object(4)\n",
      "memory usage: 1.7+ MB\n"
     ]
    }
   ],
   "source": [
    "df_filtered.info()"
   ]
  },
  {
   "cell_type": "code",
   "execution_count": 22,
   "id": "f2d5339f",
   "metadata": {},
   "outputs": [
    {
     "name": "stdout",
     "output_type": "stream",
     "text": [
      "just spent 10 minutes waiting at this mcdonalds  according to google theyre open 247 finally we pull up to the window to see if anyone was there sure enough one employee seated in the lobby and another at the window she told me they were closed whoever these two are they need to be replaced get it together mcdonalds youre a corporate power house and you have a reputation to keep one of the most unprofessional experiences ive ever had with fast food 010 would not recomend this location\n"
     ]
    }
   ],
   "source": [
    "print(df_filtered.iloc[19]['review'])"
   ]
  },
  {
   "cell_type": "markdown",
   "id": "46d48da8",
   "metadata": {},
   "source": [
    "Tokenize"
   ]
  },
  {
   "cell_type": "code",
   "execution_count": 23,
   "id": "6eff6926",
   "metadata": {},
   "outputs": [
    {
     "data": {
      "text/plain": [
       "'i repeat my order 3 times in the drive thru and she still manage to mess it up  it was suppose to be a large meal double filet of fish with large fries  no cheese  it was all wrong  they either need to pay close attention to the order being made  understand english or they need not to work at a drive thru'"
      ]
     },
     "execution_count": 23,
     "metadata": {},
     "output_type": "execute_result"
    }
   ],
   "source": [
    "first_review = df_filtered['review'].iloc[1]\n",
    "first_review"
   ]
  },
  {
   "cell_type": "code",
   "execution_count": 24,
   "id": "48664b96",
   "metadata": {},
   "outputs": [
    {
     "name": "stdout",
     "output_type": "stream",
     "text": [
      "['i', 'repeat', 'my', 'order', '3', 'times', 'in', 'the', 'drive', 'thru', 'and', 'she', 'still', 'manage', 'to', 'mess', 'it', 'up', 'it', 'was', 'suppose', 'to', 'be', 'a', 'large', 'meal', 'double', 'filet', 'of', 'fish', 'with', 'large', 'fries', 'no', 'cheese', 'it', 'was', 'all', 'wrong', 'they', 'either', 'need', 'to', 'pay', 'close', 'attention', 'to', 'the', 'order', 'being', 'made', 'understand', 'english', 'or', 'they', 'need', 'not', 'to', 'work', 'at', 'a', 'drive', 'thru']\n"
     ]
    }
   ],
   "source": [
    "tokens = word_tokenize(first_review, language='english')\n",
    "print(tokens)"
   ]
  },
  {
   "cell_type": "code",
   "execution_count": 25,
   "id": "f9850900",
   "metadata": {},
   "outputs": [],
   "source": [
    "test_from_kash = \"build built building\""
   ]
  },
  {
   "cell_type": "code",
   "execution_count": 26,
   "id": "275be646",
   "metadata": {},
   "outputs": [
    {
     "name": "stdout",
     "output_type": "stream",
     "text": [
      "['build', 'built', 'building']\n"
     ]
    }
   ],
   "source": [
    "print(word_tokenize(test_from_kash, language=\"english\"))"
   ]
  },
  {
   "cell_type": "markdown",
   "id": "8500fc89",
   "metadata": {},
   "source": [
    "Fix this process for more accurate data."
   ]
  },
  {
   "cell_type": "code",
   "execution_count": 27,
   "id": "5b50385f",
   "metadata": {},
   "outputs": [
    {
     "data": {
      "text/plain": [
       "'i repeat my order 3 times in the drive thru and she still manage to mess it up  it was suppose to be a large meal double filet of fish with large fries  no cheese  it was all wrong  they either need to pay close attention to the order being made  understand english or they need not to work at a drive thru'"
      ]
     },
     "execution_count": 27,
     "metadata": {},
     "output_type": "execute_result"
    }
   ],
   "source": [
    "first_review"
   ]
  },
  {
   "cell_type": "code",
   "execution_count": 28,
   "id": "b14df4f5",
   "metadata": {},
   "outputs": [
    {
     "name": "stdout",
     "output_type": "stream",
     "text": [
      "['i', 'repeat', 'my', 'order', '3', 'times', 'in', 'the', 'drive', 'thru', 'and', 'she', 'still', 'manage', 'to', 'mess', 'it', 'up', 'it', 'was', 'suppose', 'to', 'be', 'a', 'large', 'meal', 'double', 'filet', 'of', 'fish', 'with', 'large', 'fries', 'no', 'cheese', 'it', 'was', 'all', 'wrong', 'they', 'either', 'need', 'to', 'pay', 'close', 'attention', 'to', 'the', 'order', 'being', 'made', 'understand', 'english', 'or', 'they', 'need', 'not', 'to', 'work', 'at', 'a', 'drive', 'thru']\n"
     ]
    }
   ],
   "source": [
    "print(word_tokenize(first_review, language='english'))"
   ]
  },
  {
   "cell_type": "code",
   "execution_count": 29,
   "id": "23166227",
   "metadata": {},
   "outputs": [
    {
     "name": "stderr",
     "output_type": "stream",
     "text": [
      "<ipython-input-29-9103700409dd>:1: SettingWithCopyWarning: \n",
      "A value is trying to be set on a copy of a slice from a DataFrame.\n",
      "Try using .loc[row_indexer,col_indexer] = value instead\n",
      "\n",
      "See the caveats in the documentation: https://pandas.pydata.org/pandas-docs/stable/user_guide/indexing.html#returning-a-view-versus-a-copy\n",
      "  df_filtered['tokens'] = df_filtered['review'].apply(lambda x: word_tokenize(x, language='english'))\n"
     ]
    }
   ],
   "source": [
    "df_filtered['tokens'] = df_filtered['review'].apply(lambda x: word_tokenize(x, language='english'))"
   ]
  },
  {
   "cell_type": "code",
   "execution_count": 30,
   "id": "62524791",
   "metadata": {},
   "outputs": [
    {
     "data": {
      "text/html": [
       "<div>\n",
       "<style scoped>\n",
       "    .dataframe tbody tr th:only-of-type {\n",
       "        vertical-align: middle;\n",
       "    }\n",
       "\n",
       "    .dataframe tbody tr th {\n",
       "        vertical-align: top;\n",
       "    }\n",
       "\n",
       "    .dataframe thead th {\n",
       "        text-align: right;\n",
       "    }\n",
       "</style>\n",
       "<table border=\"1\" class=\"dataframe\">\n",
       "  <thead>\n",
       "    <tr style=\"text-align: right;\">\n",
       "      <th></th>\n",
       "      <th>store_address</th>\n",
       "      <th>latitude</th>\n",
       "      <th>longitude</th>\n",
       "      <th>rating_count</th>\n",
       "      <th>review_time</th>\n",
       "      <th>review</th>\n",
       "      <th>rating</th>\n",
       "      <th>nps_rating</th>\n",
       "      <th>tokens</th>\n",
       "    </tr>\n",
       "  </thead>\n",
       "  <tbody>\n",
       "    <tr>\n",
       "      <th>0</th>\n",
       "      <td>13749 US-183 Hwy, Austin, TX 78750, United States</td>\n",
       "      <td>30.460718</td>\n",
       "      <td>-97.792874</td>\n",
       "      <td>1,240</td>\n",
       "      <td>5 days ago</td>\n",
       "      <td>itd mcdonalds it is what it is as far as the f...</td>\n",
       "      <td>4.0</td>\n",
       "      <td>1</td>\n",
       "      <td>[itd, mcdonalds, it, is, what, it, is, as, far...</td>\n",
       "    </tr>\n",
       "    <tr>\n",
       "      <th>1</th>\n",
       "      <td>13749 US-183 Hwy, Austin, TX 78750, United States</td>\n",
       "      <td>30.460718</td>\n",
       "      <td>-97.792874</td>\n",
       "      <td>1,240</td>\n",
       "      <td>2 months ago</td>\n",
       "      <td>i repeat my order 3 times in the drive thru an...</td>\n",
       "      <td>1.0</td>\n",
       "      <td>0</td>\n",
       "      <td>[i, repeat, my, order, 3, times, in, the, driv...</td>\n",
       "    </tr>\n",
       "    <tr>\n",
       "      <th>2</th>\n",
       "      <td>13749 US-183 Hwy, Austin, TX 78750, United States</td>\n",
       "      <td>30.460718</td>\n",
       "      <td>-97.792874</td>\n",
       "      <td>1,240</td>\n",
       "      <td>3 weeks ago</td>\n",
       "      <td>i work for door dash and they locked us all ou...</td>\n",
       "      <td>1.0</td>\n",
       "      <td>0</td>\n",
       "      <td>[i, work, for, door, dash, and, they, locked, ...</td>\n",
       "    </tr>\n",
       "    <tr>\n",
       "      <th>3</th>\n",
       "      <td>13749 US-183 Hwy, Austin, TX 78750, United States</td>\n",
       "      <td>30.460718</td>\n",
       "      <td>-97.792874</td>\n",
       "      <td>1,240</td>\n",
       "      <td>3 months ago</td>\n",
       "      <td>if i  could give this location a zero on custo...</td>\n",
       "      <td>1.0</td>\n",
       "      <td>0</td>\n",
       "      <td>[if, i, could, give, this, location, a, zero, ...</td>\n",
       "    </tr>\n",
       "    <tr>\n",
       "      <th>4</th>\n",
       "      <td>13749 US-183 Hwy, Austin, TX 78750, United States</td>\n",
       "      <td>30.460718</td>\n",
       "      <td>-97.792874</td>\n",
       "      <td>1,240</td>\n",
       "      <td>3 months ago</td>\n",
       "      <td>went thru drive thru ordered getting home noti...</td>\n",
       "      <td>1.0</td>\n",
       "      <td>0</td>\n",
       "      <td>[went, thru, drive, thru, ordered, getting, ho...</td>\n",
       "    </tr>\n",
       "  </tbody>\n",
       "</table>\n",
       "</div>"
      ],
      "text/plain": [
       "                                       store_address   latitude  longitude  \\\n",
       "0  13749 US-183 Hwy, Austin, TX 78750, United States  30.460718 -97.792874   \n",
       "1  13749 US-183 Hwy, Austin, TX 78750, United States  30.460718 -97.792874   \n",
       "2  13749 US-183 Hwy, Austin, TX 78750, United States  30.460718 -97.792874   \n",
       "3  13749 US-183 Hwy, Austin, TX 78750, United States  30.460718 -97.792874   \n",
       "4  13749 US-183 Hwy, Austin, TX 78750, United States  30.460718 -97.792874   \n",
       "\n",
       "  rating_count   review_time  \\\n",
       "0        1,240    5 days ago   \n",
       "1        1,240  2 months ago   \n",
       "2        1,240   3 weeks ago   \n",
       "3        1,240  3 months ago   \n",
       "4        1,240  3 months ago   \n",
       "\n",
       "                                              review  rating  nps_rating  \\\n",
       "0  itd mcdonalds it is what it is as far as the f...     4.0           1   \n",
       "1  i repeat my order 3 times in the drive thru an...     1.0           0   \n",
       "2  i work for door dash and they locked us all ou...     1.0           0   \n",
       "3  if i  could give this location a zero on custo...     1.0           0   \n",
       "4  went thru drive thru ordered getting home noti...     1.0           0   \n",
       "\n",
       "                                              tokens  \n",
       "0  [itd, mcdonalds, it, is, what, it, is, as, far...  \n",
       "1  [i, repeat, my, order, 3, times, in, the, driv...  \n",
       "2  [i, work, for, door, dash, and, they, locked, ...  \n",
       "3  [if, i, could, give, this, location, a, zero, ...  \n",
       "4  [went, thru, drive, thru, ordered, getting, ho...  "
      ]
     },
     "execution_count": 30,
     "metadata": {},
     "output_type": "execute_result"
    }
   ],
   "source": [
    "df_filtered.head()"
   ]
  },
  {
   "cell_type": "markdown",
   "id": "1f5c4f09",
   "metadata": {},
   "source": [
    "Lemmanization - important for sentiment analysis"
   ]
  },
  {
   "cell_type": "code",
   "execution_count": 31,
   "id": "7fded475",
   "metadata": {},
   "outputs": [],
   "source": [
    "lemmatizer = WordNetLemmatizer()"
   ]
  },
  {
   "cell_type": "code",
   "execution_count": 32,
   "id": "6b757f36",
   "metadata": {},
   "outputs": [
    {
     "name": "stdout",
     "output_type": "stream",
     "text": [
      "Lemmatized test sentence: build build building\n"
     ]
    }
   ],
   "source": [
    "# Function to map NLTK's POS tags to the format understood by WordNet Lemmatizer\n",
    "def get_wordnet_pos(treebank_tag):\n",
    "    if treebank_tag.startswith('J'):\n",
    "        return wordnet.ADJ\n",
    "    elif treebank_tag.startswith('V'):\n",
    "        return wordnet.VERB\n",
    "    elif treebank_tag.startswith('N'):\n",
    "        return wordnet.NOUN\n",
    "    elif treebank_tag.startswith('R'):\n",
    "        return wordnet.ADV\n",
    "    else:\n",
    "        return wordnet.NOUN  # Default case\n",
    "\n",
    "# Enhanced lemmatization function considering POS tags\n",
    "def lemmatize_words_with_pos(tokens):\n",
    "    lemmatizer = WordNetLemmatizer()\n",
    "    pos_tags = pos_tag(tokens)\n",
    "    \n",
    "    lemmatized_tokens = []\n",
    "    for word, tag in pos_tags:\n",
    "        wntag = get_wordnet_pos(tag)\n",
    "        lemmatized_tokens.append(lemmatizer.lemmatize(word, wntag))\n",
    "    return lemmatized_tokens\n",
    "\n",
    "def lemmatize_text(text):\n",
    "    tokens = word_tokenize(text, language='english')\n",
    "    lemmatized_tokens = lemmatize_words_with_pos(tokens)\n",
    "    return ' '.join(lemmatized_tokens)\n",
    "\n",
    "# Tokenizing the test sentence\n",
    "test_sentence = \"build built building\"\n",
    "print(\"Lemmatized test sentence:\", lemmatize_text(test_sentence))"
   ]
  },
  {
   "cell_type": "code",
   "execution_count": 33,
   "id": "ba19dd5f",
   "metadata": {},
   "outputs": [
    {
     "name": "stderr",
     "output_type": "stream",
     "text": [
      "<ipython-input-33-1efaa9c5f772>:1: SettingWithCopyWarning: \n",
      "A value is trying to be set on a copy of a slice from a DataFrame.\n",
      "Try using .loc[row_indexer,col_indexer] = value instead\n",
      "\n",
      "See the caveats in the documentation: https://pandas.pydata.org/pandas-docs/stable/user_guide/indexing.html#returning-a-view-versus-a-copy\n",
      "  df_filtered['lemmatized_review'] = df_filtered['review'].apply(lemmatize_text)\n"
     ]
    }
   ],
   "source": [
    "df_filtered['lemmatized_review'] = df_filtered['review'].apply(lemmatize_text)"
   ]
  },
  {
   "cell_type": "code",
   "execution_count": 34,
   "id": "97baf57a",
   "metadata": {},
   "outputs": [
    {
     "data": {
      "text/html": [
       "<div>\n",
       "<style scoped>\n",
       "    .dataframe tbody tr th:only-of-type {\n",
       "        vertical-align: middle;\n",
       "    }\n",
       "\n",
       "    .dataframe tbody tr th {\n",
       "        vertical-align: top;\n",
       "    }\n",
       "\n",
       "    .dataframe thead th {\n",
       "        text-align: right;\n",
       "    }\n",
       "</style>\n",
       "<table border=\"1\" class=\"dataframe\">\n",
       "  <thead>\n",
       "    <tr style=\"text-align: right;\">\n",
       "      <th></th>\n",
       "      <th>store_address</th>\n",
       "      <th>latitude</th>\n",
       "      <th>longitude</th>\n",
       "      <th>rating_count</th>\n",
       "      <th>review_time</th>\n",
       "      <th>review</th>\n",
       "      <th>rating</th>\n",
       "      <th>nps_rating</th>\n",
       "      <th>tokens</th>\n",
       "      <th>lemmatized_review</th>\n",
       "    </tr>\n",
       "  </thead>\n",
       "  <tbody>\n",
       "    <tr>\n",
       "      <th>0</th>\n",
       "      <td>13749 US-183 Hwy, Austin, TX 78750, United States</td>\n",
       "      <td>30.460718</td>\n",
       "      <td>-97.792874</td>\n",
       "      <td>1,240</td>\n",
       "      <td>5 days ago</td>\n",
       "      <td>itd mcdonalds it is what it is as far as the f...</td>\n",
       "      <td>4.0</td>\n",
       "      <td>1</td>\n",
       "      <td>[itd, mcdonalds, it, is, what, it, is, as, far...</td>\n",
       "      <td>itd mcdonalds it be what it be as far a the fo...</td>\n",
       "    </tr>\n",
       "    <tr>\n",
       "      <th>1</th>\n",
       "      <td>13749 US-183 Hwy, Austin, TX 78750, United States</td>\n",
       "      <td>30.460718</td>\n",
       "      <td>-97.792874</td>\n",
       "      <td>1,240</td>\n",
       "      <td>2 months ago</td>\n",
       "      <td>i repeat my order 3 times in the drive thru an...</td>\n",
       "      <td>1.0</td>\n",
       "      <td>0</td>\n",
       "      <td>[i, repeat, my, order, 3, times, in, the, driv...</td>\n",
       "      <td>i repeat my order 3 time in the drive thru and...</td>\n",
       "    </tr>\n",
       "    <tr>\n",
       "      <th>2</th>\n",
       "      <td>13749 US-183 Hwy, Austin, TX 78750, United States</td>\n",
       "      <td>30.460718</td>\n",
       "      <td>-97.792874</td>\n",
       "      <td>1,240</td>\n",
       "      <td>3 weeks ago</td>\n",
       "      <td>i work for door dash and they locked us all ou...</td>\n",
       "      <td>1.0</td>\n",
       "      <td>0</td>\n",
       "      <td>[i, work, for, door, dash, and, they, locked, ...</td>\n",
       "      <td>i work for door dash and they lock u all out t...</td>\n",
       "    </tr>\n",
       "    <tr>\n",
       "      <th>3</th>\n",
       "      <td>13749 US-183 Hwy, Austin, TX 78750, United States</td>\n",
       "      <td>30.460718</td>\n",
       "      <td>-97.792874</td>\n",
       "      <td>1,240</td>\n",
       "      <td>3 months ago</td>\n",
       "      <td>if i  could give this location a zero on custo...</td>\n",
       "      <td>1.0</td>\n",
       "      <td>0</td>\n",
       "      <td>[if, i, could, give, this, location, a, zero, ...</td>\n",
       "      <td>if i could give this location a zero on custom...</td>\n",
       "    </tr>\n",
       "    <tr>\n",
       "      <th>4</th>\n",
       "      <td>13749 US-183 Hwy, Austin, TX 78750, United States</td>\n",
       "      <td>30.460718</td>\n",
       "      <td>-97.792874</td>\n",
       "      <td>1,240</td>\n",
       "      <td>3 months ago</td>\n",
       "      <td>went thru drive thru ordered getting home noti...</td>\n",
       "      <td>1.0</td>\n",
       "      <td>0</td>\n",
       "      <td>[went, thru, drive, thru, ordered, getting, ho...</td>\n",
       "      <td>go thru drive thru order get home notice my 10...</td>\n",
       "    </tr>\n",
       "  </tbody>\n",
       "</table>\n",
       "</div>"
      ],
      "text/plain": [
       "                                       store_address   latitude  longitude  \\\n",
       "0  13749 US-183 Hwy, Austin, TX 78750, United States  30.460718 -97.792874   \n",
       "1  13749 US-183 Hwy, Austin, TX 78750, United States  30.460718 -97.792874   \n",
       "2  13749 US-183 Hwy, Austin, TX 78750, United States  30.460718 -97.792874   \n",
       "3  13749 US-183 Hwy, Austin, TX 78750, United States  30.460718 -97.792874   \n",
       "4  13749 US-183 Hwy, Austin, TX 78750, United States  30.460718 -97.792874   \n",
       "\n",
       "  rating_count   review_time  \\\n",
       "0        1,240    5 days ago   \n",
       "1        1,240  2 months ago   \n",
       "2        1,240   3 weeks ago   \n",
       "3        1,240  3 months ago   \n",
       "4        1,240  3 months ago   \n",
       "\n",
       "                                              review  rating  nps_rating  \\\n",
       "0  itd mcdonalds it is what it is as far as the f...     4.0           1   \n",
       "1  i repeat my order 3 times in the drive thru an...     1.0           0   \n",
       "2  i work for door dash and they locked us all ou...     1.0           0   \n",
       "3  if i  could give this location a zero on custo...     1.0           0   \n",
       "4  went thru drive thru ordered getting home noti...     1.0           0   \n",
       "\n",
       "                                              tokens  \\\n",
       "0  [itd, mcdonalds, it, is, what, it, is, as, far...   \n",
       "1  [i, repeat, my, order, 3, times, in, the, driv...   \n",
       "2  [i, work, for, door, dash, and, they, locked, ...   \n",
       "3  [if, i, could, give, this, location, a, zero, ...   \n",
       "4  [went, thru, drive, thru, ordered, getting, ho...   \n",
       "\n",
       "                                   lemmatized_review  \n",
       "0  itd mcdonalds it be what it be as far a the fo...  \n",
       "1  i repeat my order 3 time in the drive thru and...  \n",
       "2  i work for door dash and they lock u all out t...  \n",
       "3  if i could give this location a zero on custom...  \n",
       "4  go thru drive thru order get home notice my 10...  "
      ]
     },
     "execution_count": 34,
     "metadata": {},
     "output_type": "execute_result"
    }
   ],
   "source": [
    "df_filtered.head()"
   ]
  },
  {
   "cell_type": "code",
   "execution_count": 35,
   "id": "cc4655fd",
   "metadata": {},
   "outputs": [
    {
     "data": {
      "text/plain": [
       "'it be a good place for one to eat something quick and simple'"
      ]
     },
     "execution_count": 35,
     "metadata": {},
     "output_type": "execute_result"
    }
   ],
   "source": [
    "df_filtered['lemmatized_review'][473]"
   ]
  },
  {
   "cell_type": "code",
   "execution_count": 36,
   "id": "74cdedcd",
   "metadata": {},
   "outputs": [
    {
     "name": "stdout",
     "output_type": "stream",
     "text": [
      "<class 'pandas.core.frame.DataFrame'>\n",
      "RangeIndex: 28609 entries, 0 to 28608\n",
      "Data columns (total 10 columns):\n",
      " #   Column             Non-Null Count  Dtype  \n",
      "---  ------             --------------  -----  \n",
      " 0   store_address      28609 non-null  object \n",
      " 1   latitude           28609 non-null  float64\n",
      " 2   longitude          28609 non-null  float64\n",
      " 3   rating_count       28609 non-null  object \n",
      " 4   review_time        28609 non-null  object \n",
      " 5   review             28609 non-null  object \n",
      " 6   rating             28609 non-null  float64\n",
      " 7   nps_rating         28609 non-null  int64  \n",
      " 8   tokens             28609 non-null  object \n",
      " 9   lemmatized_review  28609 non-null  object \n",
      "dtypes: float64(3), int64(1), object(6)\n",
      "memory usage: 2.2+ MB\n"
     ]
    }
   ],
   "source": [
    "df_filtered.info()"
   ]
  },
  {
   "cell_type": "code",
   "execution_count": 37,
   "id": "7878fa3e",
   "metadata": {},
   "outputs": [
    {
     "data": {
      "text/html": [
       "<div>\n",
       "<style scoped>\n",
       "    .dataframe tbody tr th:only-of-type {\n",
       "        vertical-align: middle;\n",
       "    }\n",
       "\n",
       "    .dataframe tbody tr th {\n",
       "        vertical-align: top;\n",
       "    }\n",
       "\n",
       "    .dataframe thead th {\n",
       "        text-align: right;\n",
       "    }\n",
       "</style>\n",
       "<table border=\"1\" class=\"dataframe\">\n",
       "  <thead>\n",
       "    <tr style=\"text-align: right;\">\n",
       "      <th></th>\n",
       "      <th>store_address</th>\n",
       "      <th>latitude</th>\n",
       "      <th>longitude</th>\n",
       "      <th>rating_count</th>\n",
       "      <th>review_time</th>\n",
       "      <th>review</th>\n",
       "      <th>rating</th>\n",
       "      <th>nps_rating</th>\n",
       "      <th>tokens</th>\n",
       "      <th>lemmatized_review</th>\n",
       "    </tr>\n",
       "  </thead>\n",
       "  <tbody>\n",
       "    <tr>\n",
       "      <th>0</th>\n",
       "      <td>13749 US-183 Hwy, Austin, TX 78750, United States</td>\n",
       "      <td>30.460718</td>\n",
       "      <td>-97.792874</td>\n",
       "      <td>1,240</td>\n",
       "      <td>5 days ago</td>\n",
       "      <td>itd mcdonalds it is what it is as far as the f...</td>\n",
       "      <td>4.0</td>\n",
       "      <td>1</td>\n",
       "      <td>[itd, mcdonalds, it, is, what, it, is, as, far...</td>\n",
       "      <td>itd mcdonalds it be what it be as far a the fo...</td>\n",
       "    </tr>\n",
       "    <tr>\n",
       "      <th>1</th>\n",
       "      <td>13749 US-183 Hwy, Austin, TX 78750, United States</td>\n",
       "      <td>30.460718</td>\n",
       "      <td>-97.792874</td>\n",
       "      <td>1,240</td>\n",
       "      <td>2 months ago</td>\n",
       "      <td>i repeat my order 3 times in the drive thru an...</td>\n",
       "      <td>1.0</td>\n",
       "      <td>0</td>\n",
       "      <td>[i, repeat, my, order, 3, times, in, the, driv...</td>\n",
       "      <td>i repeat my order 3 time in the drive thru and...</td>\n",
       "    </tr>\n",
       "    <tr>\n",
       "      <th>2</th>\n",
       "      <td>13749 US-183 Hwy, Austin, TX 78750, United States</td>\n",
       "      <td>30.460718</td>\n",
       "      <td>-97.792874</td>\n",
       "      <td>1,240</td>\n",
       "      <td>3 weeks ago</td>\n",
       "      <td>i work for door dash and they locked us all ou...</td>\n",
       "      <td>1.0</td>\n",
       "      <td>0</td>\n",
       "      <td>[i, work, for, door, dash, and, they, locked, ...</td>\n",
       "      <td>i work for door dash and they lock u all out t...</td>\n",
       "    </tr>\n",
       "    <tr>\n",
       "      <th>3</th>\n",
       "      <td>13749 US-183 Hwy, Austin, TX 78750, United States</td>\n",
       "      <td>30.460718</td>\n",
       "      <td>-97.792874</td>\n",
       "      <td>1,240</td>\n",
       "      <td>3 months ago</td>\n",
       "      <td>if i  could give this location a zero on custo...</td>\n",
       "      <td>1.0</td>\n",
       "      <td>0</td>\n",
       "      <td>[if, i, could, give, this, location, a, zero, ...</td>\n",
       "      <td>if i could give this location a zero on custom...</td>\n",
       "    </tr>\n",
       "    <tr>\n",
       "      <th>4</th>\n",
       "      <td>13749 US-183 Hwy, Austin, TX 78750, United States</td>\n",
       "      <td>30.460718</td>\n",
       "      <td>-97.792874</td>\n",
       "      <td>1,240</td>\n",
       "      <td>3 months ago</td>\n",
       "      <td>went thru drive thru ordered getting home noti...</td>\n",
       "      <td>1.0</td>\n",
       "      <td>0</td>\n",
       "      <td>[went, thru, drive, thru, ordered, getting, ho...</td>\n",
       "      <td>go thru drive thru order get home notice my 10...</td>\n",
       "    </tr>\n",
       "    <tr>\n",
       "      <th>...</th>\n",
       "      <td>...</td>\n",
       "      <td>...</td>\n",
       "      <td>...</td>\n",
       "      <td>...</td>\n",
       "      <td>...</td>\n",
       "      <td>...</td>\n",
       "      <td>...</td>\n",
       "      <td>...</td>\n",
       "      <td>...</td>\n",
       "      <td>...</td>\n",
       "    </tr>\n",
       "    <tr>\n",
       "      <th>28604</th>\n",
       "      <td>3501 Biscayne Blvd, Miami, FL 33137, United St...</td>\n",
       "      <td>25.810000</td>\n",
       "      <td>-80.189098</td>\n",
       "      <td>2,810</td>\n",
       "      <td>4 years ago</td>\n",
       "      <td>they treated me very badly</td>\n",
       "      <td>1.0</td>\n",
       "      <td>0</td>\n",
       "      <td>[they, treated, me, very, badly]</td>\n",
       "      <td>they treat me very badly</td>\n",
       "    </tr>\n",
       "    <tr>\n",
       "      <th>28605</th>\n",
       "      <td>3501 Biscayne Blvd, Miami, FL 33137, United St...</td>\n",
       "      <td>25.810000</td>\n",
       "      <td>-80.189098</td>\n",
       "      <td>2,810</td>\n",
       "      <td>a year ago</td>\n",
       "      <td>the service is very good</td>\n",
       "      <td>5.0</td>\n",
       "      <td>1</td>\n",
       "      <td>[the, service, is, very, good]</td>\n",
       "      <td>the service be very good</td>\n",
       "    </tr>\n",
       "    <tr>\n",
       "      <th>28606</th>\n",
       "      <td>3501 Biscayne Blvd, Miami, FL 33137, United St...</td>\n",
       "      <td>25.810000</td>\n",
       "      <td>-80.189098</td>\n",
       "      <td>2,810</td>\n",
       "      <td>a year ago</td>\n",
       "      <td>to remove hunger is enough</td>\n",
       "      <td>4.0</td>\n",
       "      <td>1</td>\n",
       "      <td>[to, remove, hunger, is, enough]</td>\n",
       "      <td>to remove hunger be enough</td>\n",
       "    </tr>\n",
       "    <tr>\n",
       "      <th>28607</th>\n",
       "      <td>3501 Biscayne Blvd, Miami, FL 33137, United St...</td>\n",
       "      <td>25.810000</td>\n",
       "      <td>-80.189098</td>\n",
       "      <td>2,810</td>\n",
       "      <td>5 years ago</td>\n",
       "      <td>its good but lately it has become very expensive</td>\n",
       "      <td>5.0</td>\n",
       "      <td>1</td>\n",
       "      <td>[its, good, but, lately, it, has, become, very...</td>\n",
       "      <td>it good but lately it have become very expensive</td>\n",
       "    </tr>\n",
       "    <tr>\n",
       "      <th>28608</th>\n",
       "      <td>3501 Biscayne Blvd, Miami, FL 33137, United St...</td>\n",
       "      <td>25.810000</td>\n",
       "      <td>-80.189098</td>\n",
       "      <td>2,810</td>\n",
       "      <td>2 years ago</td>\n",
       "      <td>they took good care of me</td>\n",
       "      <td>5.0</td>\n",
       "      <td>1</td>\n",
       "      <td>[they, took, good, care, of, me]</td>\n",
       "      <td>they take good care of me</td>\n",
       "    </tr>\n",
       "  </tbody>\n",
       "</table>\n",
       "<p>28609 rows × 10 columns</p>\n",
       "</div>"
      ],
      "text/plain": [
       "                                           store_address   latitude  \\\n",
       "0      13749 US-183 Hwy, Austin, TX 78750, United States  30.460718   \n",
       "1      13749 US-183 Hwy, Austin, TX 78750, United States  30.460718   \n",
       "2      13749 US-183 Hwy, Austin, TX 78750, United States  30.460718   \n",
       "3      13749 US-183 Hwy, Austin, TX 78750, United States  30.460718   \n",
       "4      13749 US-183 Hwy, Austin, TX 78750, United States  30.460718   \n",
       "...                                                  ...        ...   \n",
       "28604  3501 Biscayne Blvd, Miami, FL 33137, United St...  25.810000   \n",
       "28605  3501 Biscayne Blvd, Miami, FL 33137, United St...  25.810000   \n",
       "28606  3501 Biscayne Blvd, Miami, FL 33137, United St...  25.810000   \n",
       "28607  3501 Biscayne Blvd, Miami, FL 33137, United St...  25.810000   \n",
       "28608  3501 Biscayne Blvd, Miami, FL 33137, United St...  25.810000   \n",
       "\n",
       "       longitude rating_count   review_time  \\\n",
       "0     -97.792874        1,240    5 days ago   \n",
       "1     -97.792874        1,240  2 months ago   \n",
       "2     -97.792874        1,240   3 weeks ago   \n",
       "3     -97.792874        1,240  3 months ago   \n",
       "4     -97.792874        1,240  3 months ago   \n",
       "...          ...          ...           ...   \n",
       "28604 -80.189098        2,810   4 years ago   \n",
       "28605 -80.189098        2,810    a year ago   \n",
       "28606 -80.189098        2,810    a year ago   \n",
       "28607 -80.189098        2,810   5 years ago   \n",
       "28608 -80.189098        2,810   2 years ago   \n",
       "\n",
       "                                                  review  rating  nps_rating  \\\n",
       "0      itd mcdonalds it is what it is as far as the f...     4.0           1   \n",
       "1      i repeat my order 3 times in the drive thru an...     1.0           0   \n",
       "2      i work for door dash and they locked us all ou...     1.0           0   \n",
       "3      if i  could give this location a zero on custo...     1.0           0   \n",
       "4      went thru drive thru ordered getting home noti...     1.0           0   \n",
       "...                                                  ...     ...         ...   \n",
       "28604                         they treated me very badly     1.0           0   \n",
       "28605                           the service is very good     5.0           1   \n",
       "28606                         to remove hunger is enough     4.0           1   \n",
       "28607   its good but lately it has become very expensive     5.0           1   \n",
       "28608                          they took good care of me     5.0           1   \n",
       "\n",
       "                                                  tokens  \\\n",
       "0      [itd, mcdonalds, it, is, what, it, is, as, far...   \n",
       "1      [i, repeat, my, order, 3, times, in, the, driv...   \n",
       "2      [i, work, for, door, dash, and, they, locked, ...   \n",
       "3      [if, i, could, give, this, location, a, zero, ...   \n",
       "4      [went, thru, drive, thru, ordered, getting, ho...   \n",
       "...                                                  ...   \n",
       "28604                   [they, treated, me, very, badly]   \n",
       "28605                     [the, service, is, very, good]   \n",
       "28606                   [to, remove, hunger, is, enough]   \n",
       "28607  [its, good, but, lately, it, has, become, very...   \n",
       "28608                   [they, took, good, care, of, me]   \n",
       "\n",
       "                                       lemmatized_review  \n",
       "0      itd mcdonalds it be what it be as far a the fo...  \n",
       "1      i repeat my order 3 time in the drive thru and...  \n",
       "2      i work for door dash and they lock u all out t...  \n",
       "3      if i could give this location a zero on custom...  \n",
       "4      go thru drive thru order get home notice my 10...  \n",
       "...                                                  ...  \n",
       "28604                           they treat me very badly  \n",
       "28605                           the service be very good  \n",
       "28606                         to remove hunger be enough  \n",
       "28607   it good but lately it have become very expensive  \n",
       "28608                          they take good care of me  \n",
       "\n",
       "[28609 rows x 10 columns]"
      ]
     },
     "execution_count": 37,
     "metadata": {},
     "output_type": "execute_result"
    }
   ],
   "source": [
    "df_processed = df_filtered\n",
    "df_processed"
   ]
  },
  {
   "cell_type": "code",
   "execution_count": 38,
   "id": "019d591e",
   "metadata": {},
   "outputs": [],
   "source": [
    "df_processed.to_csv('data/processed.csv')"
   ]
  }
 ],
 "metadata": {
  "kernelspec": {
   "display_name": "Python (learn-env)",
   "language": "python",
   "name": "learn-env"
  },
  "language_info": {
   "codemirror_mode": {
    "name": "ipython",
    "version": 3
   },
   "file_extension": ".py",
   "mimetype": "text/x-python",
   "name": "python",
   "nbconvert_exporter": "python",
   "pygments_lexer": "ipython3",
   "version": "3.8.5"
  }
 },
 "nbformat": 4,
 "nbformat_minor": 5
}
