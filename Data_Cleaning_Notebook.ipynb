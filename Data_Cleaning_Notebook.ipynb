{
 "cells": [
  {
   "cell_type": "code",
   "execution_count": 1,
   "id": "69132095",
   "metadata": {},
   "outputs": [],
   "source": [
    "import pandas as pd\n",
    "import numpy as np"
   ]
  },
  {
   "cell_type": "markdown",
   "id": "a519b827",
   "metadata": {},
   "source": [
    "Load in the dataframe"
   ]
  },
  {
   "cell_type": "code",
   "execution_count": 2,
   "id": "bc9e5d3a",
   "metadata": {},
   "outputs": [
    {
     "data": {
      "text/html": [
       "<div>\n",
       "<style scoped>\n",
       "    .dataframe tbody tr th:only-of-type {\n",
       "        vertical-align: middle;\n",
       "    }\n",
       "\n",
       "    .dataframe tbody tr th {\n",
       "        vertical-align: top;\n",
       "    }\n",
       "\n",
       "    .dataframe thead th {\n",
       "        text-align: right;\n",
       "    }\n",
       "</style>\n",
       "<table border=\"1\" class=\"dataframe\">\n",
       "  <thead>\n",
       "    <tr style=\"text-align: right;\">\n",
       "      <th></th>\n",
       "      <th>reviewer_id</th>\n",
       "      <th>store_name</th>\n",
       "      <th>category</th>\n",
       "      <th>store_address</th>\n",
       "      <th>latitude</th>\n",
       "      <th>longitude</th>\n",
       "      <th>rating_count</th>\n",
       "      <th>review_time</th>\n",
       "      <th>review</th>\n",
       "      <th>rating</th>\n",
       "    </tr>\n",
       "  </thead>\n",
       "  <tbody>\n",
       "    <tr>\n",
       "      <th>0</th>\n",
       "      <td>1</td>\n",
       "      <td>McDonald's</td>\n",
       "      <td>Fast food restaurant</td>\n",
       "      <td>13749 US-183 Hwy, Austin, TX 78750, United States</td>\n",
       "      <td>30.460718</td>\n",
       "      <td>-97.792874</td>\n",
       "      <td>1,240</td>\n",
       "      <td>3 months ago</td>\n",
       "      <td>Why does it look like someone spit on my food?...</td>\n",
       "      <td>1 star</td>\n",
       "    </tr>\n",
       "    <tr>\n",
       "      <th>1</th>\n",
       "      <td>2</td>\n",
       "      <td>McDonald's</td>\n",
       "      <td>Fast food restaurant</td>\n",
       "      <td>13749 US-183 Hwy, Austin, TX 78750, United States</td>\n",
       "      <td>30.460718</td>\n",
       "      <td>-97.792874</td>\n",
       "      <td>1,240</td>\n",
       "      <td>5 days ago</td>\n",
       "      <td>It'd McDonalds. It is what it is as far as the...</td>\n",
       "      <td>4 stars</td>\n",
       "    </tr>\n",
       "    <tr>\n",
       "      <th>2</th>\n",
       "      <td>3</td>\n",
       "      <td>McDonald's</td>\n",
       "      <td>Fast food restaurant</td>\n",
       "      <td>13749 US-183 Hwy, Austin, TX 78750, United States</td>\n",
       "      <td>30.460718</td>\n",
       "      <td>-97.792874</td>\n",
       "      <td>1,240</td>\n",
       "      <td>5 days ago</td>\n",
       "      <td>Made a mobile order got to the speaker and che...</td>\n",
       "      <td>1 star</td>\n",
       "    </tr>\n",
       "    <tr>\n",
       "      <th>3</th>\n",
       "      <td>4</td>\n",
       "      <td>McDonald's</td>\n",
       "      <td>Fast food restaurant</td>\n",
       "      <td>13749 US-183 Hwy, Austin, TX 78750, United States</td>\n",
       "      <td>30.460718</td>\n",
       "      <td>-97.792874</td>\n",
       "      <td>1,240</td>\n",
       "      <td>a month ago</td>\n",
       "      <td>My mc. Crispy chicken sandwich was ï¿½ï¿½ï¿½ï¿...</td>\n",
       "      <td>5 stars</td>\n",
       "    </tr>\n",
       "    <tr>\n",
       "      <th>4</th>\n",
       "      <td>5</td>\n",
       "      <td>McDonald's</td>\n",
       "      <td>Fast food restaurant</td>\n",
       "      <td>13749 US-183 Hwy, Austin, TX 78750, United States</td>\n",
       "      <td>30.460718</td>\n",
       "      <td>-97.792874</td>\n",
       "      <td>1,240</td>\n",
       "      <td>2 months ago</td>\n",
       "      <td>I repeat my order 3 times in the drive thru, a...</td>\n",
       "      <td>1 star</td>\n",
       "    </tr>\n",
       "    <tr>\n",
       "      <th>...</th>\n",
       "      <td>...</td>\n",
       "      <td>...</td>\n",
       "      <td>...</td>\n",
       "      <td>...</td>\n",
       "      <td>...</td>\n",
       "      <td>...</td>\n",
       "      <td>...</td>\n",
       "      <td>...</td>\n",
       "      <td>...</td>\n",
       "      <td>...</td>\n",
       "    </tr>\n",
       "    <tr>\n",
       "      <th>33391</th>\n",
       "      <td>33392</td>\n",
       "      <td>McDonald's</td>\n",
       "      <td>Fast food restaurant</td>\n",
       "      <td>3501 Biscayne Blvd, Miami, FL 33137, United St...</td>\n",
       "      <td>25.810000</td>\n",
       "      <td>-80.189098</td>\n",
       "      <td>2,810</td>\n",
       "      <td>4 years ago</td>\n",
       "      <td>They treated me very badly.</td>\n",
       "      <td>1 star</td>\n",
       "    </tr>\n",
       "    <tr>\n",
       "      <th>33392</th>\n",
       "      <td>33393</td>\n",
       "      <td>McDonald's</td>\n",
       "      <td>Fast food restaurant</td>\n",
       "      <td>3501 Biscayne Blvd, Miami, FL 33137, United St...</td>\n",
       "      <td>25.810000</td>\n",
       "      <td>-80.189098</td>\n",
       "      <td>2,810</td>\n",
       "      <td>a year ago</td>\n",
       "      <td>The service is very good</td>\n",
       "      <td>5 stars</td>\n",
       "    </tr>\n",
       "    <tr>\n",
       "      <th>33393</th>\n",
       "      <td>33394</td>\n",
       "      <td>McDonald's</td>\n",
       "      <td>Fast food restaurant</td>\n",
       "      <td>3501 Biscayne Blvd, Miami, FL 33137, United St...</td>\n",
       "      <td>25.810000</td>\n",
       "      <td>-80.189098</td>\n",
       "      <td>2,810</td>\n",
       "      <td>a year ago</td>\n",
       "      <td>To remove hunger is enough</td>\n",
       "      <td>4 stars</td>\n",
       "    </tr>\n",
       "    <tr>\n",
       "      <th>33394</th>\n",
       "      <td>33395</td>\n",
       "      <td>McDonald's</td>\n",
       "      <td>Fast food restaurant</td>\n",
       "      <td>3501 Biscayne Blvd, Miami, FL 33137, United St...</td>\n",
       "      <td>25.810000</td>\n",
       "      <td>-80.189098</td>\n",
       "      <td>2,810</td>\n",
       "      <td>5 years ago</td>\n",
       "      <td>It's good, but lately it has become very expen...</td>\n",
       "      <td>5 stars</td>\n",
       "    </tr>\n",
       "    <tr>\n",
       "      <th>33395</th>\n",
       "      <td>33396</td>\n",
       "      <td>McDonald's</td>\n",
       "      <td>Fast food restaurant</td>\n",
       "      <td>3501 Biscayne Blvd, Miami, FL 33137, United St...</td>\n",
       "      <td>25.810000</td>\n",
       "      <td>-80.189098</td>\n",
       "      <td>2,810</td>\n",
       "      <td>2 years ago</td>\n",
       "      <td>they took good care of me</td>\n",
       "      <td>5 stars</td>\n",
       "    </tr>\n",
       "  </tbody>\n",
       "</table>\n",
       "<p>33396 rows × 10 columns</p>\n",
       "</div>"
      ],
      "text/plain": [
       "       reviewer_id  store_name              category  \\\n",
       "0                1  McDonald's  Fast food restaurant   \n",
       "1                2  McDonald's  Fast food restaurant   \n",
       "2                3  McDonald's  Fast food restaurant   \n",
       "3                4  McDonald's  Fast food restaurant   \n",
       "4                5  McDonald's  Fast food restaurant   \n",
       "...            ...         ...                   ...   \n",
       "33391        33392  McDonald's  Fast food restaurant   \n",
       "33392        33393  McDonald's  Fast food restaurant   \n",
       "33393        33394  McDonald's  Fast food restaurant   \n",
       "33394        33395  McDonald's  Fast food restaurant   \n",
       "33395        33396  McDonald's  Fast food restaurant   \n",
       "\n",
       "                                           store_address  latitude   \\\n",
       "0      13749 US-183 Hwy, Austin, TX 78750, United States  30.460718   \n",
       "1      13749 US-183 Hwy, Austin, TX 78750, United States  30.460718   \n",
       "2      13749 US-183 Hwy, Austin, TX 78750, United States  30.460718   \n",
       "3      13749 US-183 Hwy, Austin, TX 78750, United States  30.460718   \n",
       "4      13749 US-183 Hwy, Austin, TX 78750, United States  30.460718   \n",
       "...                                                  ...        ...   \n",
       "33391  3501 Biscayne Blvd, Miami, FL 33137, United St...  25.810000   \n",
       "33392  3501 Biscayne Blvd, Miami, FL 33137, United St...  25.810000   \n",
       "33393  3501 Biscayne Blvd, Miami, FL 33137, United St...  25.810000   \n",
       "33394  3501 Biscayne Blvd, Miami, FL 33137, United St...  25.810000   \n",
       "33395  3501 Biscayne Blvd, Miami, FL 33137, United St...  25.810000   \n",
       "\n",
       "       longitude rating_count   review_time  \\\n",
       "0     -97.792874        1,240  3 months ago   \n",
       "1     -97.792874        1,240    5 days ago   \n",
       "2     -97.792874        1,240    5 days ago   \n",
       "3     -97.792874        1,240   a month ago   \n",
       "4     -97.792874        1,240  2 months ago   \n",
       "...          ...          ...           ...   \n",
       "33391 -80.189098        2,810   4 years ago   \n",
       "33392 -80.189098        2,810    a year ago   \n",
       "33393 -80.189098        2,810    a year ago   \n",
       "33394 -80.189098        2,810   5 years ago   \n",
       "33395 -80.189098        2,810   2 years ago   \n",
       "\n",
       "                                                  review   rating  \n",
       "0      Why does it look like someone spit on my food?...   1 star  \n",
       "1      It'd McDonalds. It is what it is as far as the...  4 stars  \n",
       "2      Made a mobile order got to the speaker and che...   1 star  \n",
       "3      My mc. Crispy chicken sandwich was ï¿½ï¿½ï¿½ï¿...  5 stars  \n",
       "4      I repeat my order 3 times in the drive thru, a...   1 star  \n",
       "...                                                  ...      ...  \n",
       "33391                        They treated me very badly.   1 star  \n",
       "33392                           The service is very good  5 stars  \n",
       "33393                         To remove hunger is enough  4 stars  \n",
       "33394  It's good, but lately it has become very expen...  5 stars  \n",
       "33395                          they took good care of me  5 stars  \n",
       "\n",
       "[33396 rows x 10 columns]"
      ]
     },
     "execution_count": 2,
     "metadata": {},
     "output_type": "execute_result"
    }
   ],
   "source": [
    "df = pd.read_csv('data/McDonald_s_Reviews.csv', encoding='latin-1')\n",
    "df"
   ]
  },
  {
   "cell_type": "markdown",
   "id": "f860ff07",
   "metadata": {},
   "source": [
    "Explore data"
   ]
  },
  {
   "cell_type": "code",
   "execution_count": 3,
   "id": "c55f236e",
   "metadata": {},
   "outputs": [
    {
     "name": "stdout",
     "output_type": "stream",
     "text": [
      "<class 'pandas.core.frame.DataFrame'>\n",
      "RangeIndex: 33396 entries, 0 to 33395\n",
      "Data columns (total 10 columns):\n",
      " #   Column         Non-Null Count  Dtype  \n",
      "---  ------         --------------  -----  \n",
      " 0   reviewer_id    33396 non-null  int64  \n",
      " 1   store_name     33396 non-null  object \n",
      " 2   category       33396 non-null  object \n",
      " 3   store_address  33396 non-null  object \n",
      " 4   latitude       32736 non-null  float64\n",
      " 5   longitude      32736 non-null  float64\n",
      " 6   rating_count   33396 non-null  object \n",
      " 7   review_time    33396 non-null  object \n",
      " 8   review         33396 non-null  object \n",
      " 9   rating         33396 non-null  object \n",
      "dtypes: float64(2), int64(1), object(7)\n",
      "memory usage: 2.5+ MB\n"
     ]
    }
   ],
   "source": [
    "df.info()"
   ]
  },
  {
   "cell_type": "code",
   "execution_count": 4,
   "id": "73a6efbe",
   "metadata": {},
   "outputs": [
    {
     "data": {
      "text/plain": [
       "category\n",
       "Fast food restaurant    33396\n",
       "Name: count, dtype: int64"
      ]
     },
     "execution_count": 4,
     "metadata": {},
     "output_type": "execute_result"
    }
   ],
   "source": [
    "df['category'].value_counts()"
   ]
  },
  {
   "cell_type": "code",
   "execution_count": 5,
   "id": "60989700",
   "metadata": {},
   "outputs": [
    {
     "data": {
      "text/plain": [
       "array(['Fast food restaurant'], dtype=object)"
      ]
     },
     "execution_count": 5,
     "metadata": {},
     "output_type": "execute_result"
    }
   ],
   "source": [
    "df['category'].unique()"
   ]
  },
  {
   "cell_type": "code",
   "execution_count": 6,
   "id": "facd8989",
   "metadata": {},
   "outputs": [
    {
     "data": {
      "text/plain": [
       "rating\n",
       "5 stars    10274\n",
       "1 star      9431\n",
       "4 stars     5787\n",
       "3 stars     4818\n",
       "2 stars     3086\n",
       "Name: count, dtype: int64"
      ]
     },
     "execution_count": 6,
     "metadata": {},
     "output_type": "execute_result"
    }
   ],
   "source": [
    "df['rating'].value_counts()"
   ]
  },
  {
   "cell_type": "markdown",
   "id": "7f7b3753",
   "metadata": {},
   "source": [
    "'category' appears to be a useless column, likely will drop"
   ]
  },
  {
   "cell_type": "code",
   "execution_count": 7,
   "id": "6d0388db",
   "metadata": {},
   "outputs": [
    {
     "data": {
      "text/html": [
       "<div>\n",
       "<style scoped>\n",
       "    .dataframe tbody tr th:only-of-type {\n",
       "        vertical-align: middle;\n",
       "    }\n",
       "\n",
       "    .dataframe tbody tr th {\n",
       "        vertical-align: top;\n",
       "    }\n",
       "\n",
       "    .dataframe thead th {\n",
       "        text-align: right;\n",
       "    }\n",
       "</style>\n",
       "<table border=\"1\" class=\"dataframe\">\n",
       "  <thead>\n",
       "    <tr style=\"text-align: right;\">\n",
       "      <th></th>\n",
       "      <th>reviewer_id</th>\n",
       "      <th>store_name</th>\n",
       "      <th>store_address</th>\n",
       "      <th>latitude</th>\n",
       "      <th>longitude</th>\n",
       "      <th>rating_count</th>\n",
       "      <th>review_time</th>\n",
       "      <th>review</th>\n",
       "      <th>rating</th>\n",
       "    </tr>\n",
       "  </thead>\n",
       "  <tbody>\n",
       "    <tr>\n",
       "      <th>0</th>\n",
       "      <td>1</td>\n",
       "      <td>McDonald's</td>\n",
       "      <td>13749 US-183 Hwy, Austin, TX 78750, United States</td>\n",
       "      <td>30.460718</td>\n",
       "      <td>-97.792874</td>\n",
       "      <td>1,240</td>\n",
       "      <td>3 months ago</td>\n",
       "      <td>Why does it look like someone spit on my food?...</td>\n",
       "      <td>1 star</td>\n",
       "    </tr>\n",
       "    <tr>\n",
       "      <th>1</th>\n",
       "      <td>2</td>\n",
       "      <td>McDonald's</td>\n",
       "      <td>13749 US-183 Hwy, Austin, TX 78750, United States</td>\n",
       "      <td>30.460718</td>\n",
       "      <td>-97.792874</td>\n",
       "      <td>1,240</td>\n",
       "      <td>5 days ago</td>\n",
       "      <td>It'd McDonalds. It is what it is as far as the...</td>\n",
       "      <td>4 stars</td>\n",
       "    </tr>\n",
       "    <tr>\n",
       "      <th>2</th>\n",
       "      <td>3</td>\n",
       "      <td>McDonald's</td>\n",
       "      <td>13749 US-183 Hwy, Austin, TX 78750, United States</td>\n",
       "      <td>30.460718</td>\n",
       "      <td>-97.792874</td>\n",
       "      <td>1,240</td>\n",
       "      <td>5 days ago</td>\n",
       "      <td>Made a mobile order got to the speaker and che...</td>\n",
       "      <td>1 star</td>\n",
       "    </tr>\n",
       "    <tr>\n",
       "      <th>3</th>\n",
       "      <td>4</td>\n",
       "      <td>McDonald's</td>\n",
       "      <td>13749 US-183 Hwy, Austin, TX 78750, United States</td>\n",
       "      <td>30.460718</td>\n",
       "      <td>-97.792874</td>\n",
       "      <td>1,240</td>\n",
       "      <td>a month ago</td>\n",
       "      <td>My mc. Crispy chicken sandwich was ï¿½ï¿½ï¿½ï¿...</td>\n",
       "      <td>5 stars</td>\n",
       "    </tr>\n",
       "    <tr>\n",
       "      <th>4</th>\n",
       "      <td>5</td>\n",
       "      <td>McDonald's</td>\n",
       "      <td>13749 US-183 Hwy, Austin, TX 78750, United States</td>\n",
       "      <td>30.460718</td>\n",
       "      <td>-97.792874</td>\n",
       "      <td>1,240</td>\n",
       "      <td>2 months ago</td>\n",
       "      <td>I repeat my order 3 times in the drive thru, a...</td>\n",
       "      <td>1 star</td>\n",
       "    </tr>\n",
       "  </tbody>\n",
       "</table>\n",
       "</div>"
      ],
      "text/plain": [
       "   reviewer_id  store_name                                      store_address  \\\n",
       "0            1  McDonald's  13749 US-183 Hwy, Austin, TX 78750, United States   \n",
       "1            2  McDonald's  13749 US-183 Hwy, Austin, TX 78750, United States   \n",
       "2            3  McDonald's  13749 US-183 Hwy, Austin, TX 78750, United States   \n",
       "3            4  McDonald's  13749 US-183 Hwy, Austin, TX 78750, United States   \n",
       "4            5  McDonald's  13749 US-183 Hwy, Austin, TX 78750, United States   \n",
       "\n",
       "   latitude   longitude rating_count   review_time  \\\n",
       "0  30.460718 -97.792874        1,240  3 months ago   \n",
       "1  30.460718 -97.792874        1,240    5 days ago   \n",
       "2  30.460718 -97.792874        1,240    5 days ago   \n",
       "3  30.460718 -97.792874        1,240   a month ago   \n",
       "4  30.460718 -97.792874        1,240  2 months ago   \n",
       "\n",
       "                                              review   rating  \n",
       "0  Why does it look like someone spit on my food?...   1 star  \n",
       "1  It'd McDonalds. It is what it is as far as the...  4 stars  \n",
       "2  Made a mobile order got to the speaker and che...   1 star  \n",
       "3  My mc. Crispy chicken sandwich was ï¿½ï¿½ï¿½ï¿...  5 stars  \n",
       "4  I repeat my order 3 times in the drive thru, a...   1 star  "
      ]
     },
     "execution_count": 7,
     "metadata": {},
     "output_type": "execute_result"
    }
   ],
   "source": [
    "df = df.drop('category', axis=1)\n",
    "df.head()"
   ]
  },
  {
   "cell_type": "code",
   "execution_count": 8,
   "id": "38b1c56b",
   "metadata": {},
   "outputs": [
    {
     "name": "stdout",
     "output_type": "stream",
     "text": [
      "<class 'pandas.core.frame.DataFrame'>\n",
      "RangeIndex: 33396 entries, 0 to 33395\n",
      "Data columns (total 9 columns):\n",
      " #   Column         Non-Null Count  Dtype  \n",
      "---  ------         --------------  -----  \n",
      " 0   reviewer_id    33396 non-null  int64  \n",
      " 1   store_name     33396 non-null  object \n",
      " 2   store_address  33396 non-null  object \n",
      " 3   latitude       32736 non-null  float64\n",
      " 4   longitude      32736 non-null  float64\n",
      " 5   rating_count   33396 non-null  object \n",
      " 6   review_time    33396 non-null  object \n",
      " 7   review         33396 non-null  object \n",
      " 8   rating         33396 non-null  object \n",
      "dtypes: float64(2), int64(1), object(6)\n",
      "memory usage: 2.3+ MB\n"
     ]
    }
   ],
   "source": [
    "df.info()"
   ]
  },
  {
   "cell_type": "code",
   "execution_count": 10,
   "id": "fd2efd97",
   "metadata": {},
   "outputs": [
    {
     "name": "stdout",
     "output_type": "stream",
     "text": [
      "False\n"
     ]
    }
   ],
   "source": []
  },
  {
   "cell_type": "code",
   "execution_count": null,
   "id": "3bc4ba24",
   "metadata": {},
   "outputs": [],
   "source": [
    "lat_nan = df[df['latitude'].isnull()]"
   ]
  },
  {
   "cell_type": "code",
   "execution_count": null,
   "id": "0edb68e1",
   "metadata": {},
   "outputs": [],
   "source": [
    "df['latitude'].head(50)"
   ]
  },
  {
   "cell_type": "code",
   "execution_count": null,
   "id": "eabab92e",
   "metadata": {},
   "outputs": [],
   "source": [
    "print(df.columns)"
   ]
  },
  {
   "cell_type": "code",
   "execution_count": null,
   "id": "2def4c31",
   "metadata": {},
   "outputs": [],
   "source": [
    "df.columns = df.columns.str.strip()"
   ]
  },
  {
   "cell_type": "code",
   "execution_count": null,
   "id": "64e6d4a7",
   "metadata": {},
   "outputs": [],
   "source": [
    "print(df.columns)"
   ]
  },
  {
   "cell_type": "code",
   "execution_count": null,
   "id": "d2fd6ddf",
   "metadata": {},
   "outputs": [],
   "source": [
    "df['latitude'].isna()"
   ]
  },
  {
   "cell_type": "code",
   "execution_count": null,
   "id": "0678fd27",
   "metadata": {},
   "outputs": [],
   "source": [
    "rows_with_nan = df[df['latitude'].isna()]"
   ]
  },
  {
   "cell_type": "code",
   "execution_count": null,
   "id": "ec7e9123",
   "metadata": {},
   "outputs": [],
   "source": [
    "print(rows_with_nan)"
   ]
  },
  {
   "cell_type": "markdown",
   "id": "8f7765ac",
   "metadata": {},
   "source": [
    "Only 660 NaNs for Lat&Long, may be easiest to just drop"
   ]
  },
  {
   "cell_type": "markdown",
   "id": "03140755",
   "metadata": {},
   "source": [
    "If I have Lat & Long, can prob drop 'store_address'"
   ]
  },
  {
   "cell_type": "markdown",
   "id": "5c437665",
   "metadata": {},
   "source": [
    "May have to change 'rating' into int 1-5"
   ]
  },
  {
   "cell_type": "code",
   "execution_count": null,
   "id": "96069f7c",
   "metadata": {},
   "outputs": [],
   "source": [
    "df[['store_address', 'latitude', 'longitude']]"
   ]
  },
  {
   "cell_type": "code",
   "execution_count": null,
   "id": "48c91064",
   "metadata": {},
   "outputs": [],
   "source": [
    "unique_rows = df[['store_address', 'latitude', 'longitude']].drop_duplicates()\n",
    "unique_rows"
   ]
  },
  {
   "cell_type": "code",
   "execution_count": null,
   "id": "ffd7410a",
   "metadata": {},
   "outputs": [],
   "source": [
    "len(unique_rows)"
   ]
  },
  {
   "cell_type": "markdown",
   "id": "fcab5c83",
   "metadata": {},
   "source": [
    "Appears to be 40 unique combos of address, lat & long"
   ]
  },
  {
   "cell_type": "markdown",
   "id": "40a681ec",
   "metadata": {},
   "source": [
    "drop NaNs"
   ]
  },
  {
   "cell_type": "code",
   "execution_count": null,
   "id": "fd13f10c",
   "metadata": {},
   "outputs": [],
   "source": [
    "df = df.dropna()\n",
    "df.info()"
   ]
  },
  {
   "cell_type": "markdown",
   "id": "a3d1294c",
   "metadata": {},
   "source": [
    "change 'rating' to float for consistency"
   ]
  },
  {
   "cell_type": "code",
   "execution_count": null,
   "id": "bba417d9",
   "metadata": {},
   "outputs": [],
   "source": [
    "df['rating'] = df['rating'].str.extract('(\\d+)').astype(float)\n",
    "df['rating'].value_counts()"
   ]
  },
  {
   "cell_type": "code",
   "execution_count": null,
   "id": "4afdaa45",
   "metadata": {},
   "outputs": [],
   "source": [
    "df.info()"
   ]
  },
  {
   "cell_type": "code",
   "execution_count": null,
   "id": "b73db8dc",
   "metadata": {},
   "outputs": [],
   "source": [
    "print(df['rating'].dtype)"
   ]
  },
  {
   "cell_type": "code",
   "execution_count": null,
   "id": "d4922cd4",
   "metadata": {},
   "outputs": [],
   "source": [
    "df['store_name'].value_counts()"
   ]
  },
  {
   "cell_type": "markdown",
   "id": "886f0ace",
   "metadata": {},
   "source": [
    "This is odd. May not need column, can clean anyway"
   ]
  },
  {
   "cell_type": "code",
   "execution_count": null,
   "id": "1dcadb49",
   "metadata": {},
   "outputs": [],
   "source": [
    "df['store_name'] = df['store_name'].str.replace('ý', '')\n",
    "df['store_name'].value_counts()"
   ]
  },
  {
   "cell_type": "code",
   "execution_count": null,
   "id": "1c147c49",
   "metadata": {},
   "outputs": [],
   "source": [
    "df.info()"
   ]
  },
  {
   "cell_type": "code",
   "execution_count": null,
   "id": "a35bfdce",
   "metadata": {},
   "outputs": [],
   "source": [
    "df['review']"
   ]
  },
  {
   "cell_type": "code",
   "execution_count": null,
   "id": "f5af45f3",
   "metadata": {},
   "outputs": [],
   "source": [
    "df['rating_count']"
   ]
  },
  {
   "cell_type": "code",
   "execution_count": null,
   "id": "44ed1578",
   "metadata": {},
   "outputs": [],
   "source": [
    "df['rating_count'].value_counts()"
   ]
  },
  {
   "cell_type": "code",
   "execution_count": null,
   "id": "6cdbb7f2",
   "metadata": {},
   "outputs": [],
   "source": [
    "df.head(20)"
   ]
  },
  {
   "cell_type": "markdown",
   "id": "746f3436",
   "metadata": {},
   "source": [
    "'rating_count' = # ratings for the store. odd column, drop?"
   ]
  },
  {
   "cell_type": "markdown",
   "id": "9797a969",
   "metadata": {},
   "source": [
    "'review_time' could be used to see how reviews change over time? or ignore?"
   ]
  },
  {
   "cell_type": "markdown",
   "id": "6507d024",
   "metadata": {},
   "source": [
    "drop 'store_name', it's unneccessary."
   ]
  },
  {
   "cell_type": "code",
   "execution_count": null,
   "id": "1d84e0d8",
   "metadata": {},
   "outputs": [],
   "source": [
    "df = df.drop('store_name', axis=1)\n",
    "df.info()"
   ]
  },
  {
   "cell_type": "markdown",
   "id": "c9049b71",
   "metadata": {},
   "source": [
    "'reviewer_id' unneccessary. drop"
   ]
  },
  {
   "cell_type": "code",
   "execution_count": null,
   "id": "4e753561",
   "metadata": {},
   "outputs": [],
   "source": [
    "df = df.drop('reviewer_id', axis=1)\n",
    "df"
   ]
  },
  {
   "cell_type": "code",
   "execution_count": null,
   "id": "12baa0b6",
   "metadata": {},
   "outputs": [],
   "source": [
    "df_cleaned = df\n",
    "df_cleaned"
   ]
  },
  {
   "cell_type": "code",
   "execution_count": null,
   "id": "855c1a8b",
   "metadata": {},
   "outputs": [],
   "source": [
    "df_cleaned.to_csv('data/cleaned.csv')"
   ]
  },
  {
   "cell_type": "code",
   "execution_count": null,
   "id": "16cbf776",
   "metadata": {},
   "outputs": [],
   "source": []
  }
 ],
 "metadata": {
  "kernelspec": {
   "display_name": "Python (learn-env)",
   "language": "python",
   "name": "learn-env"
  },
  "language_info": {
   "codemirror_mode": {
    "name": "ipython",
    "version": 3
   },
   "file_extension": ".py",
   "mimetype": "text/x-python",
   "name": "python",
   "nbconvert_exporter": "python",
   "pygments_lexer": "ipython3",
   "version": "3.8.5"
  }
 },
 "nbformat": 4,
 "nbformat_minor": 5
}
